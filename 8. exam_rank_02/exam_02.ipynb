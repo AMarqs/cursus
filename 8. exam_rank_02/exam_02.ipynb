{
 "cells": [
  {
   "cell_type": "markdown",
   "metadata": {},
   "source": [
    "# LEVEL 1"
   ]
  },
  {
   "cell_type": "markdown",
   "metadata": {},
   "source": [
    "## first_word"
   ]
  },
  {
   "cell_type": "markdown",
   "metadata": {},
   "source": [
    "Assignment name  : first_word \\\n",
    "Expected files   : first_word.c \\\n",
    "Allowed functions: write\n",
    "\n",
    "----------------------------------------------------------------------------------------\n",
    "\n",
    "Write a program that takes a string and displays its first word, followed by a newline. \\\n",
    "A word is a section of string delimited by spaces/tabs or by the start/end of the string.\n",
    "\n",
    "If the number of parameters is not 1, or if there are no words, simply display a newline.\n",
    "\n",
    "### Examples:"
   ]
  },
  {
   "cell_type": "code",
   "execution_count": null,
   "metadata": {
    "vscode": {
     "languageId": "c"
    }
   },
   "outputs": [],
   "source": [
    "$> ./first_word \"FOR PONY\" | cat -e\n",
    "FOR$\n",
    "\n",
    "$> ./first_word \"this        ...    is sparta, then again, maybe    not\" | cat -e\n",
    "this$\n",
    "\n",
    "$> ./first_word \"c\" | cat -e\n",
    "$\n",
    "\n",
    "$> ./first_word \"a\" \"b\" | cat -e\n",
    "$\n",
    "\n",
    "$> ./first_word \"  lorem,ipsum  \" | cat -e\n",
    "lorem,ipsum$"
   ]
  },
  {
   "cell_type": "code",
   "execution_count": null,
   "metadata": {
    "vscode": {
     "languageId": "c"
    }
   },
   "outputs": [],
   "source": [
    "#include <unistd.h>\n",
    "\n",
    "int main(int argc, char **argv)\n",
    "{\n",
    "\tint i = 0;\n",
    "\tif (argc == 2)\n",
    "\t{\n",
    "\t\twhile (argv[1][i] == 32 || argv[1][i] == 9)  // 32 = ' ' y 9 = \\t\n",
    "\t\t\ti++;\n",
    "\t\twhile (argv[1][i] != 32 && argv[1][i] != 9 && argv[1][i])\n",
    "\t\t{\n",
    "\t\t\twrite(1, &argv[1][i], 1);\n",
    "\t\t\ti++;\n",
    "\t\t}\n",
    "\t}\n",
    "\twrite(1, \"\\n\", 1);\n",
    "\treturn (0);\n",
    "}"
   ]
  },
  {
   "cell_type": "markdown",
   "metadata": {},
   "source": [
    "## fizzbuzz"
   ]
  },
  {
   "cell_type": "markdown",
   "metadata": {},
   "source": [
    "Assignment name  : fizzbuzz \\\n",
    "Expected files   : fizzbuzz.c \\\n",
    "Allowed functions: write\n",
    "\n",
    "--------------------------------------------------------------------------------\n",
    "\n",
    "Write a program that prints the numbers from 1 to 100, each separated by a newline.\n",
    "\n",
    "- If the number is a multiple of 3, it prints 'fizz' instead.\n",
    "- If the number is a multiple of 5, it prints 'buzz' instead.\n",
    "- If the number is both a multiple of 3 and a multiple of 5, it prints 'fizzbuzz' instead.\n",
    "\n",
    "\n",
    "### Example:"
   ]
  },
  {
   "cell_type": "code",
   "execution_count": null,
   "metadata": {
    "vscode": {
     "languageId": "shellscript"
    }
   },
   "outputs": [],
   "source": [
    "$>./fizzbuzz\n",
    "1\n",
    "2\n",
    "fizz\n",
    "4\n",
    "buzz\n",
    "fizz\n",
    "7\n",
    "8\n",
    "fizz\n",
    "buzz\n",
    "11\n",
    "fizz\n",
    "13\n",
    "14\n",
    "fizzbuzz\n",
    "[...]\n",
    "97\n",
    "98\n",
    "fizz\n",
    "buzz"
   ]
  },
  {
   "cell_type": "code",
   "execution_count": null,
   "metadata": {
    "vscode": {
     "languageId": "c"
    }
   },
   "outputs": [],
   "source": [
    "#include <unistd.h>\n",
    "\n",
    "int main(void)\n",
    "{\n",
    "\tint i = 1;\n",
    "\tint aux = 0;\n",
    "\twhile (i <= 100)\n",
    "\t{\n",
    "\t\tif (i % 3 == 0 && i % 5 == 0)\n",
    "\t\t\twrite(1, \"fizzbuzz\", 8);\n",
    "\t\telse if (i % 3 == 0)\n",
    "\t\t\t\twrite(1, \"fizz\", 4);\n",
    "\t\telse if (i % 5 == 0)\n",
    "\t\t\t\twrite(1, \"buzz\", 4);\n",
    "\t\telse if (i < 10)\n",
    "\t\t{\n",
    "\t\t\taux = i;\n",
    "\t\t\ti += 48;\n",
    "\t\t\twrite(1, &i, 1);\n",
    "\t\t\ti = aux;\n",
    "\t\t}\n",
    "\t\telse if (i >= 10 && i < 100)\n",
    "\t\t{\n",
    "\t\t\taux = i / 10 + 48;\n",
    "\t\t\twrite(1, &aux, 1);\n",
    "\t\t\taux =  i % 10 + 48;\n",
    "\t\t\twrite(1, &aux, 1);\n",
    "\t\t}\n",
    "\t\twrite(1, \"\\n\", 1);\n",
    "\t\ti++;\n",
    "\t}\n",
    "\treturn (0);\n",
    "}"
   ]
  },
  {
   "cell_type": "markdown",
   "metadata": {},
   "source": [
    "## ft_putstr"
   ]
  },
  {
   "cell_type": "markdown",
   "metadata": {},
   "source": [
    "Assignment name  : ft_putstr \\\n",
    "Expected files   : ft_putstr.c \\\n",
    "Allowed functions: write\n",
    "\n",
    "--------------------------------------------------------------------------------\n",
    "\n",
    "Write a function that displays a string on the standard output. \\\n",
    "The pointer passed to the function contains the address of the string's first character.\n",
    "\n",
    "Your function must be declared as follows:\n",
    "`void\tft_putstr(char *str);`"
   ]
  },
  {
   "cell_type": "code",
   "execution_count": null,
   "metadata": {
    "vscode": {
     "languageId": "c"
    }
   },
   "outputs": [],
   "source": [
    "\n",
    "#include <unistd.h>\n",
    "\n",
    "void\tft_putstr(char *str)\n",
    "{\n",
    "\tint i = 0;\n",
    "\twhile (str[i])\n",
    "\t\twrite(1, &str[i++], 1);\n",
    "}"
   ]
  },
  {
   "cell_type": "markdown",
   "metadata": {},
   "source": [
    "## ft_strcpy"
   ]
  },
  {
   "cell_type": "markdown",
   "metadata": {},
   "source": [
    "Assignment name  : ft_strcpy \\\n",
    "Expected files   : ft_strcpy.c \\\n",
    "Allowed functions: none\n",
    "\n",
    "--------------------------------------------------------------------------------\n",
    "\n",
    "Reproduce the behavior of the function strcpy (man strcpy).\n",
    "\n",
    "Your function must be declared as follows:\n",
    "`char    *ft_strcpy(char *s1, char *s2);`"
   ]
  },
  {
   "cell_type": "code",
   "execution_count": null,
   "metadata": {
    "vscode": {
     "languageId": "c"
    }
   },
   "outputs": [],
   "source": [
    "#include <unistd.h>\n",
    "\n",
    "char    *ft_strcpy(char *s1, char *s2)\n",
    "{\n",
    "\tint i = 0;\n",
    "\twhile (s2[i] != '\\0')\n",
    "\t{\n",
    "\t\ts1[i] = s2[i];\n",
    "\t\ti++;\n",
    "\t}\n",
    "\ts1[i] = '\\0';\n",
    "\treturn (s1);\n",
    "}"
   ]
  },
  {
   "cell_type": "markdown",
   "metadata": {},
   "source": [
    "## ft_strlen"
   ]
  },
  {
   "cell_type": "markdown",
   "metadata": {},
   "source": [
    "Assignment name  : ft_strlen \\\n",
    "Expected files   : ft_strlen.c \\\n",
    "Allowed functions: none\n",
    "\n",
    "--------------------------------------------------------------------------------\n",
    "\n",
    "Write a function that returns the length of a string.\n",
    "\n",
    "Your function must be declared as follows:\n",
    "`int\tft_strlen(char *str);`"
   ]
  },
  {
   "cell_type": "code",
   "execution_count": null,
   "metadata": {
    "vscode": {
     "languageId": "c"
    }
   },
   "outputs": [],
   "source": [
    "int\tft_strlen(char *str)\n",
    "{\n",
    "\tint i = 0;\n",
    "\twhile (str[i])\n",
    "\t\ti++;\n",
    "\treturn (i);\n",
    "}"
   ]
  },
  {
   "cell_type": "markdown",
   "metadata": {},
   "source": [
    "## ft_swap"
   ]
  },
  {
   "cell_type": "markdown",
   "metadata": {},
   "source": [
    "Assignment name  : ft_swap \\\n",
    "Expected files   : ft_swap.c \\\n",
    "Allowed functions: none\n",
    "\n",
    "--------------------------------------------------------------------------------\n",
    "\n",
    "Write a function that swaps the contents of two integers the adresses of which are passed as parameters.\n",
    "\n",
    "Your function must be declared as follows:\n",
    "`void\tft_swap(int *a, int *b);`"
   ]
  },
  {
   "cell_type": "code",
   "execution_count": null,
   "metadata": {
    "vscode": {
     "languageId": "c"
    }
   },
   "outputs": [],
   "source": [
    "void\tft_swap(int *a, int *b)\n",
    "{\n",
    "\tint aux = *a;\n",
    "\t*a = *b;\n",
    "\t*b = aux;\n",
    "}"
   ]
  },
  {
   "cell_type": "markdown",
   "metadata": {},
   "source": [
    "## repeat_alpha"
   ]
  },
  {
   "cell_type": "markdown",
   "metadata": {},
   "source": [
    "Assignment name  : repeat_alpha \\\n",
    "Expected files   : repeat_alpha.c \\\n",
    "Allowed functions: write\n",
    "\n",
    "--------------------------------------------------------------------------------\n",
    "\n",
    "Write a program called repeat_alpha that takes a string and display it repeating each alphabetical character as many times as its alphabetical index, followed by a newline.\n",
    "\n",
    "'a' becomes 'a', 'b' becomes 'bb', 'e' becomes 'eeeee', etc... \\\n",
    "Case remains unchanged.\n",
    "\n",
    "If the number of arguments is not 1, just display a newline.\n",
    "\n",
    "### Examples:"
   ]
  },
  {
   "cell_type": "code",
   "execution_count": null,
   "metadata": {
    "vscode": {
     "languageId": "shellscript"
    }
   },
   "outputs": [],
   "source": [
    "$>./repeat_alpha \"abc\"\n",
    "abbccc\n",
    "\n",
    "$>./repeat_alpha \"Alex.\" | cat -e\n",
    "Alllllllllllleeeeexxxxxxxxxxxxxxxxxxxxxxxx.$\n",
    "\n",
    "$>./repeat_alpha 'abacadaba 42!' | cat -e\n",
    "abbacccaddddabba 42!$\n",
    "\n",
    "$>./repeat_alpha | cat -e\n",
    "$\n",
    "\n",
    "$>./repeat_alpha \"\" | cat -e\n",
    "$"
   ]
  },
  {
   "cell_type": "code",
   "execution_count": null,
   "metadata": {
    "vscode": {
     "languageId": "c"
    }
   },
   "outputs": [],
   "source": [
    "#include <unistd.h>\n",
    "\n",
    "int main(int argc, char **argv)\n",
    "{\n",
    "\tchar *str = argv[1];\n",
    "\tint i = 0;\n",
    "\tint j = 0;\n",
    "\tif (argc == 2)\n",
    "\t{\n",
    "\t\twhile (str[i] != '\\0')\n",
    "\t\t{\n",
    "\t\t\tif (str[i] >= 65 && str[i] <= 90) // 65 = 'A' y 90 = 'Z'\n",
    "\t\t\t{\n",
    "\t\t\t\tj = str[i] - 64;\n",
    "\t\t\t\twhile (j > 0)\n",
    "\t\t\t\t{\n",
    "\t\t\t\t\twrite(1, &str[i], 1);\n",
    "\t\t\t\t\tj--;\n",
    "\t\t\t\t}\n",
    "\t\t\t}\n",
    "\t\t\telse if (str[i] >= 97 && str[i] <= 122) // 97 = 'a' y 122 = 'z'\n",
    "\t\t\t{\n",
    "\t\t\t\tj = str[i] - 96;\n",
    "\t\t\t\twhile (j > 0)\n",
    "\t\t\t\t{\n",
    "\t\t\t\t\twrite(1, &str[i], 1);\n",
    "\t\t\t\t\tj--;\n",
    "\t\t\t\t}\n",
    "\t\t\t}\n",
    "\t\t\ti++;\n",
    "\t\t}\n",
    "\t}\n",
    "\twrite(1, \"\\n\", 1);\n",
    "\treturn (0);\n",
    "}"
   ]
  },
  {
   "cell_type": "markdown",
   "metadata": {},
   "source": [
    "## rev_print"
   ]
  },
  {
   "cell_type": "markdown",
   "metadata": {},
   "source": [
    "Assignment name  : rev_print \\\n",
    "Expected files   : rev_print.c \\\n",
    "Allowed functions: write\n",
    "\n",
    "--------------------------------------------------------------------------------\n",
    "\n",
    "Write a function that takes a string, and displays the string in reverse followed by a newline. \\\n",
    "The original string must not be modified. \\\n",
    "You must return the string passed as a parameter.\n",
    "\n",
    "Your function must be declared as follows:\n",
    "`char *rev_print(char *str);`\n",
    "\n",
    "### Examples:"
   ]
  },
  {
   "cell_type": "code",
   "execution_count": null,
   "metadata": {
    "vscode": {
     "languageId": "c"
    }
   },
   "outputs": [],
   "source": [
    "int main(void)\n",
    "{\n",
    "  rev_print(\"Hello world\");\n",
    "  write (1, \"\\n\", 1);\n",
    "  rev_print(\"tnirp esreveR\");\n",
    "  write (1, \"\\n\", 1);\n",
    "  rev_print(\"\");\n",
    "  write (1, \"\\n\", 1);\n",
    "}"
   ]
  },
  {
   "cell_type": "markdown",
   "metadata": {},
   "source": [
    "Output:"
   ]
  },
  {
   "cell_type": "code",
   "execution_count": null,
   "metadata": {
    "vscode": {
     "languageId": "shellscript"
    }
   },
   "outputs": [],
   "source": [
    "$> ./a.out | cat -e\n",
    "dlrow olleH$\n",
    "$> ./a.out | cat -e\n",
    "Reverse print$\n",
    "$> ./a.out | cat -e\n",
    "$"
   ]
  },
  {
   "cell_type": "code",
   "execution_count": null,
   "metadata": {
    "vscode": {
     "languageId": "c"
    }
   },
   "outputs": [],
   "source": [
    "#include <unistd.h>\n",
    "\n",
    "char *rev_print(char *str)\n",
    "{\n",
    "\tint i = 0;\n",
    "\twhile (str[i])\n",
    "\t\ti++;\n",
    "\twhile (--i >= 0)\n",
    "\t\twrite(1, &str[i], 1);\n",
    "\twrite(1, \"\\n\", 1);\n",
    "\treturn (str);\n",
    "}"
   ]
  },
  {
   "cell_type": "markdown",
   "metadata": {},
   "source": [
    "## rot_13"
   ]
  },
  {
   "cell_type": "markdown",
   "metadata": {},
   "source": [
    "Assignment name  : rot_13 \\\n",
    "Expected files   : rot_13.c \\\n",
    "Allowed functions: write\n",
    "\n",
    "--------------------------------------------------------------------------------\n",
    "\n",
    "Write a program that takes a string and displays it, replacing each of its letters by the letter 13 spaces ahead in alphabetical order. \\\n",
    "'z' becomes 'm' and 'Z' becomes 'M'. Case remains unaffected. \\\n",
    "The output will be followed by a newline.\n",
    "\n",
    "If the number of arguments is not 1, the program displays a newline.\n",
    "\n",
    "### Example:"
   ]
  },
  {
   "cell_type": "code",
   "execution_count": null,
   "metadata": {
    "vscode": {
     "languageId": "shellscript"
    }
   },
   "outputs": [],
   "source": [
    "$>./rot_13 \"abc\"\n",
    "nop\n",
    "\n",
    "$>./rot_13 \"My horse is Amazing.\" | cat -e\n",
    "Zl ubefr vf Nznmvat.$\n",
    "\n",
    "$>./rot_13 \"AkjhZ zLKIJz , 23y \" | cat -e\n",
    "NxwuM mYXVWm , 23l $\n",
    "\n",
    "$>./rot_13 | cat -e\n",
    "$\n",
    "\n",
    "$>./rot_13 \"\" | cat -e\n",
    "$"
   ]
  },
  {
   "cell_type": "code",
   "execution_count": null,
   "metadata": {
    "vscode": {
     "languageId": "c"
    }
   },
   "outputs": [],
   "source": [
    "#include <unistd.h>\n",
    "\n",
    "int main(int argc, char **argv)\n",
    "{\n",
    "\tint i = 0;\n",
    "\tif (argc == 2)\n",
    "\t{\n",
    "\t\twhile (argv[1][i])\n",
    "\t\t{\n",
    "\t\t\tif ((argv[1][i] >= 'A' && argv[1][i] <= 'M') || (argv[1][i] >= 'a' && argv[1][i] <= 'm'))\n",
    "\t\t\t\targv[1][i] = argv[1][i] + 13;\n",
    "\t\t\telse if ((argv[1][i] >= 'N' && argv[1][i] <= 'Z') || (argv[1][i] >= 'n' && argv[1][i] <= 'z'))\n",
    "\t\t\t\targv[1][i] = argv[1][i] - 13;\n",
    "\t\t\twrite(1, &argv[1][i], 1);\n",
    "\t\t\ti++;\n",
    "\t\t}\n",
    "\t}\n",
    "\twrite(1, \"\\n\", 1);\n",
    "\treturn (0);\n",
    "}"
   ]
  },
  {
   "cell_type": "markdown",
   "metadata": {},
   "source": [
    "## rotone"
   ]
  },
  {
   "cell_type": "markdown",
   "metadata": {},
   "source": [
    "Assignment name  : rotone \\\n",
    "Expected files   : rotone.c \\\n",
    "Allowed functions: write\n",
    "\n",
    "--------------------------------------------------------------------------------\n",
    "\n",
    "Write a program that takes a string and displays it, replacing each of its letters by the next one in alphabetical order.\n",
    "'z' becomes 'a' and 'Z' becomes 'A'. Case remains unaffected. \\\n",
    "The output will be followed by a \\n.\n",
    "\n",
    "If the number of arguments is not 1, the program displays \\n.\n",
    "\n",
    "### Example:"
   ]
  },
  {
   "cell_type": "code",
   "execution_count": null,
   "metadata": {
    "vscode": {
     "languageId": "shellscript"
    }
   },
   "outputs": [],
   "source": [
    "$>./rotone \"abc\"\n",
    "bcd\n",
    "\n",
    "$>./rotone \"Les stagiaires du staff ne sentent pas toujours tres bon.\" | cat -e\n",
    "Mft tubhjbjsft ev tubgg of tfoufou qbt upvkpvst usft cpo.$\n",
    "\n",
    "$>./rotone \"AkjhZ zLKIJz , 23y \" | cat -e\n",
    "BlkiA aMLJKa , 23z $\n",
    "\n",
    "$>./rotone | cat -e\n",
    "$\n",
    "\n",
    "$>./rotone \"\" | cat -e\n",
    "$"
   ]
  },
  {
   "cell_type": "code",
   "execution_count": null,
   "metadata": {
    "vscode": {
     "languageId": "c"
    }
   },
   "outputs": [],
   "source": [
    "int main(int argc, char **argv)\n",
    "{\n",
    "\tint i = 0;\n",
    "\tif (argc == 2)\n",
    "\t{\n",
    "\t\twhile (argv[1][i])\n",
    "\t\t{\n",
    "\t\t\tif ((argv[1][i] >= 'A' && argv[1][i] <= 'Y') || (argv[1][i] >= 'a' && argv[1][i] <= 'y'))\n",
    "\t\t\t\targv[1][i] = argv[1][i] + 1;\n",
    "\t\t\telse if (argv[1][i] == 'Z' || argv[1][i] == 'z')\n",
    "\t\t\t\targv[1][i] = argv[1][i] - 26;\n",
    "\t\t\twrite(1, &argv[1][i], 1);\n",
    "\t\t\ti++;\n",
    "\t\t}\n",
    "\t}\n",
    "\twrite(1, \"\\n\", 1);\n",
    "\treturn (0);\n",
    "}"
   ]
  },
  {
   "cell_type": "markdown",
   "metadata": {},
   "source": [
    "## search_and_replace"
   ]
  },
  {
   "cell_type": "markdown",
   "metadata": {},
   "source": [
    "Assignment name  : search_and_replace \\\n",
    "Expected files   : search_and_replace.c \\\n",
    "Allowed functions: write, exit\n",
    "\n",
    "--------------------------------------------------------------------------------\n",
    "\n",
    "Write a program called search_and_replace that takes 3 arguments, the first arguments is a string in which to replace a letter (2nd argument) by another one (3rd argument).\n",
    "\n",
    "If the number of arguments is not 3, just display a newline. \\\n",
    "If the second argument is not contained in the first one (the string) then the program simply rewrites the string followed by a newline.\n",
    "\n",
    "### Examples:"
   ]
  },
  {
   "cell_type": "code",
   "execution_count": null,
   "metadata": {
    "vscode": {
     "languageId": "shellscript"
    }
   },
   "outputs": [],
   "source": [
    "$>./search_and_replace \"Papache est un sabre\" \"a\" \"o\"\n",
    "Popoche est un sobre\n",
    "\n",
    "$>./search_and_replace \"zaz\" \"art\" \"zul\" | cat -e\n",
    "$\n",
    "\n",
    "$>./search_and_replace \"zaz\" \"r\" \"u\" | cat -e\n",
    "zaz$\n",
    "\n",
    "$>./search_and_replace \"jacob\" \"a\" \"b\" \"c\" \"e\" | cat -e\n",
    "$\n",
    "\n",
    "$>./search_and_replace \"ZoZ eT Dovid oiME le METol.\" \"o\" \"a\" | cat -e\n",
    "ZaZ eT David aiME le METal.$\n",
    "\n",
    "$>./search_and_replace \"wNcOre Un ExEmPle Pas Facilw a Ecrirw \" \"w\" \"e\" | cat -e\n",
    "eNcOre Un ExEmPle Pas Facile a Ecrire $"
   ]
  },
  {
   "cell_type": "code",
   "execution_count": null,
   "metadata": {
    "vscode": {
     "languageId": "c"
    }
   },
   "outputs": [],
   "source": [
    "#include <unistd.h>\n",
    "\n",
    "int main(int argc, char **argv)\n",
    "{\n",
    "\tint i = 0;\n",
    "\tif (argc == 4 && argv[2][1] == 0 && argv[3][1] == 0)\n",
    "\t{\n",
    "\t\twhile (argv[1][i])\n",
    "\t\t{\n",
    "\t\t\tif (argv[1][i] == argv[2][0])\n",
    "\t\t\t\targv[1][i] = argv[3][0];\n",
    "\t\t\twrite(1, &argv[1][i], 1);\n",
    "\t\t\ti++;\n",
    "\t\t}\n",
    "\t}\n",
    "\twrite(1, \"\\n\", 1);\n",
    "\treturn (0);\n",
    "}"
   ]
  },
  {
   "cell_type": "markdown",
   "metadata": {},
   "source": [
    "## ulstr"
   ]
  },
  {
   "cell_type": "markdown",
   "metadata": {},
   "source": [
    "Assignment name  : ulstr \\\n",
    "Expected files   : ulstr.c \\\n",
    "Allowed functions: write\n",
    "\n",
    "--------------------------------------------------------------------------------\n",
    "\n",
    "Write a program that takes a string and reverses the case of all its letters. \\\n",
    "Other characters remain unchanged. \\\n",
    "You must display the result followed by a '\\n'.\n",
    "\n",
    "If the number of arguments is not 1, the program displays '\\n'.\n",
    "\n",
    "### Examples:"
   ]
  },
  {
   "cell_type": "code",
   "execution_count": null,
   "metadata": {
    "vscode": {
     "languageId": "shellscript"
    }
   },
   "outputs": [],
   "source": [
    "$>./ulstr \"L'eSPrit nE peUt plUs pRogResSer s'Il staGne et sI peRsIsTent VAnIte et auto-justification.\" | cat -e\n",
    "l'EspRIT Ne PEuT PLuS PrOGrESsER S'iL STAgNE ET Si PErSiStENT vaNiTE ET AUTO-JUSTIFICATION.$\n",
    "\n",
    "$>./ulstr \"S'enTOuRer dE sECreT eSt uN sIGnE De mAnQuE De coNNaiSSanCe.  \" | cat -e\n",
    "s'ENtoUrER De SecREt EsT Un SigNe dE MaNqUe dE COnnAIssANcE.  $\n",
    "\n",
    "$>./ulstr \"3:21 Ba  tOut  moUn ki Ka di KE m'en Ka fe fot\" | cat -e\n",
    "3:21 bA  ToUT  MOuN KI kA DI ke M'EN kA FE FOT$\n",
    "\n",
    "$>./ulstr | cat -e\n",
    "$"
   ]
  },
  {
   "cell_type": "code",
   "execution_count": null,
   "metadata": {
    "vscode": {
     "languageId": "c"
    }
   },
   "outputs": [],
   "source": [
    "#include <unistd.h>\n",
    "\n",
    "int main(int argc, char **argv)\n",
    "{\n",
    "\tint i = 0;\n",
    "\tif (argc == 2)\n",
    "\t{\n",
    "\t\twhile (argv[1][i])\n",
    "\t\t{\n",
    "\t\t\tif (argv[1][i] >= 'A' && argv[1][i] <= 'Z')\n",
    "\t\t\t\targv[1][i] = argv[1][i] + 32;\n",
    "\t\t\telse if (argv[1][i] >= 'a' && argv[1][i] <= 'z')\n",
    "\t\t\t\targv[1][i] = argv[1][i] - 32;\n",
    "\t\t\twrite(1, &argv[1][i], 1);\n",
    "\t\t\ti++;\n",
    "\t\t}\n",
    "\t}\n",
    "\twrite(1, \"\\n\", 1);\n",
    "\treturn (0);\n",
    "}"
   ]
  },
  {
   "cell_type": "markdown",
   "metadata": {},
   "source": [
    "# LEVEL 2"
   ]
  },
  {
   "cell_type": "markdown",
   "metadata": {},
   "source": [
    "## alpha_mirror"
   ]
  },
  {
   "cell_type": "markdown",
   "metadata": {},
   "source": [
    "Assignment name  : alpha_mirror \\\n",
    "Expected files   : alpha_mirror.c \\\n",
    "Allowed functions: write\n",
    "\n",
    "--------------------------------------------------------------------------------\n",
    " \n",
    "Write a program called alpha_mirror that takes a string and displays this string after replacing each alphabetical character by the opposite alphabetical character, followed by a newline.\n",
    "\n",
    "'a' becomes 'z', 'Z' becomes 'A' \\\n",
    "'d' becomes 'w', 'M' becomes 'N' \\\n",
    "and so on. \\\n",
    "Case is not changed. \n",
    " \n",
    "If the number of arguments is not 1, display only a newline.\n",
    " \n",
    "### Examples:"
   ]
  },
  {
   "cell_type": "code",
   "execution_count": null,
   "metadata": {
    "vscode": {
     "languageId": "shellscript"
    }
   },
   "outputs": [],
   "source": [
    "$>./alpha_mirror \"abc\"\n",
    "zyx\n",
    "\n",
    "$>./alpha_mirror \"My horse is Amazing.\" | cat -e\n",
    "Nb slihv rh Znzarmt.$\n",
    "\n",
    "$>./alpha_mirror | cat -e\n",
    "$"
   ]
  },
  {
   "cell_type": "code",
   "execution_count": null,
   "metadata": {
    "vscode": {
     "languageId": "c"
    }
   },
   "outputs": [],
   "source": [
    "#include <unistd.h>\n",
    "\n",
    "int main(int argc, char **argv)\n",
    "{\n",
    "\tint i = 0;\n",
    "\tif (argc == 2)\n",
    "\t{\n",
    "\t\twhile (argv[1][i])\n",
    "\t\t{\n",
    "\t\t\tif (argv[1][i] >= 'A' && argv[1][i] <= 'Z')\n",
    "\t\t\t\targv[1][i] = 'Z' - (argv[1][i] - 'A');\n",
    "\t\t\telse if (argv[1][i] >= 'a' && argv[1][i] <= 'z')\n",
    "\t\t\t\targv[1][i] = 'z' - (argv[1][i] - 'a');\n",
    "\t\t\twrite(1, &argv[1][i], 1);\n",
    "\t\t\ti++;\n",
    "\t\t}\n",
    "\t}\n",
    "\twrite(1, \"\\n\", 1);\n",
    "\treturn (0);\n",
    "}"
   ]
  },
  {
   "cell_type": "markdown",
   "metadata": {},
   "source": [
    "## camel_to_snake"
   ]
  },
  {
   "cell_type": "markdown",
   "metadata": {},
   "source": [
    "Assignment name  : camel_to_snake \\\n",
    "Expected files   : camel_to_snake.c \\\n",
    "Allowed functions: malloc, free, realloc, write\n",
    "\n",
    "--------------------------------------------------------------------------------\n",
    "\n",
    "Write a program that takes a single string in lowerCamelCase format and converts it into a string in snake_case format.\n",
    "- A lowerCamelCase string is a string where each word begins with a capital letter except for the first one.\n",
    "- A snake_case string is a string where each word is in lower case, separated by an underscore \"_\".\n",
    "\n",
    "### Examples:"
   ]
  },
  {
   "cell_type": "code",
   "execution_count": null,
   "metadata": {
    "vscode": {
     "languageId": "shellscript"
    }
   },
   "outputs": [],
   "source": [
    "$>./camel_to_snake \"hereIsACamelCaseWord\"\n",
    "here_is_a_camel_case_word\n",
    "\n",
    "$>./camel_to_snake \"helloWorld\" | cat -e\n",
    "hello_world$\n",
    "\n",
    "$>./camel_to_snake | cat -e\n",
    "$"
   ]
  },
  {
   "cell_type": "code",
   "execution_count": null,
   "metadata": {
    "vscode": {
     "languageId": "c"
    }
   },
   "outputs": [],
   "source": [
    "#include <unistd.h>\n",
    "\n",
    "int main(int argc, char **argv)\n",
    "{\n",
    "\tint i = 0;\n",
    "\tif (argc == 2)\n",
    "\t{\n",
    "\t\twhile (argv[1][i])\n",
    "\t\t{\n",
    "\t\t\tif(argv[1][i] >= 'a' && argv[1][i] <= 'z')\n",
    "\t\t\t\twrite(1, &argv[1][i], 1);\n",
    "\t\t\tif(argv[1][i] >= 'A' && argv[1][i] <= 'Z')\n",
    "\t\t\t{\n",
    "\t\t\t\targv[1][i] = argv[1][i] + 32;\n",
    "\t\t\t\twrite(1, \"_\", 1);\n",
    "\t\t\t\twrite(1, &argv[1][i], 1);\n",
    "\t\t\t}\n",
    "\t\t\ti++;\n",
    "\t\t}\n",
    "\t}\n",
    "\twrite(1, \"\\n\", 1);\n",
    "\treturn (0);\n",
    "}"
   ]
  },
  {
   "cell_type": "markdown",
   "metadata": {},
   "source": [
    "## do_op"
   ]
  },
  {
   "cell_type": "markdown",
   "metadata": {},
   "source": [
    "Assignment name  : do_op \\\n",
    "Expected files   : *.c, *.h \\\n",
    "Allowed functions: atoi, printf, write\n",
    "\n",
    "--------------------------------------------------------------------------------\n",
    "\n",
    "Write a program that takes three strings:\n",
    "- The first and the third one are representations of base-10 signed integers that fit in an int.\n",
    "- The second one is an arithmetic operator chosen from: + - * / %\n",
    "\n",
    "The program must display the result of the requested arithmetic operation, followed by a newline. If the number of parameters is not 3, the program just displays a newline.\n",
    "\n",
    "You can assume the string have no mistakes or extraneous characters. Negative numbers, in input or output, will have one and only one leading '-'. The result of the operation fits in an int.\n",
    "\n",
    "### Examples:"
   ]
  },
  {
   "cell_type": "code",
   "execution_count": null,
   "metadata": {
    "vscode": {
     "languageId": "shellscript"
    }
   },
   "outputs": [],
   "source": [
    "$> ./do_op \"123\" \"*\" 456 | cat -e\n",
    "56088$\n",
    "\n",
    "$> ./do_op \"9828\" \"/\" 234 | cat -e\n",
    "42$\n",
    "\n",
    "$> ./do_op \"1\" \"+\" \"-43\" | cat -e\n",
    "-42$\n",
    "\n",
    "$> ./do_op | cat -e\n",
    "$"
   ]
  },
  {
   "cell_type": "code",
   "execution_count": null,
   "metadata": {
    "vscode": {
     "languageId": "c"
    }
   },
   "outputs": [],
   "source": [
    "#include <stdlib.h>\t// Libreria para atoi\n",
    "#include <stdio.h>\t// Libreria para printf\n",
    "\n",
    "int main(int argc, char **argv)\n",
    "{\n",
    "\tint i = 0;\n",
    "\tif(argc == 4)\n",
    "\t{\n",
    "\t\tif (argv[2][0] == '+')\n",
    "\t\t\ti = atoi(argv[1]) + atoi(argv[3]);\n",
    "\t\telse if (argv[2][0] == '-')\n",
    "\t\t\ti = atoi(argv[1]) - atoi(argv[3]);\n",
    "\t\telse if (argv[2][0] == '*')\n",
    "\t\t\ti = atoi(argv[1]) * atoi(argv[3]);\n",
    "\t\telse if (argv[2][0] == '/')\n",
    "\t\t\ti = atoi(argv[1]) / atoi(argv[3]);\n",
    "\t\telse if (argv[2][0] == '%')\n",
    "\t\t\ti = atoi(argv[1]) % atoi(argv[3]);\n",
    "\t\tprintf(\"%d\", i);\n",
    "\t}\n",
    "\tprintf(\"\\n\");\n",
    "\treturn (0);\n",
    "}"
   ]
  },
  {
   "cell_type": "markdown",
   "metadata": {},
   "source": [
    "## ft_atoi"
   ]
  },
  {
   "cell_type": "markdown",
   "metadata": {},
   "source": [
    "Assignment name  : ft_atoi \\\n",
    "Expected files   : ft_atoi.c \\\n",
    "Allowed functions: None\n",
    "\n",
    "--------------------------------------------------------------------------------\n",
    "\n",
    "Write a function that converts the string argument str to an integer (type int) and returns it. \\\n",
    "It works much like the standard atoi(const char *str) function, see the man.\n",
    "\n",
    "Your function must be declared as follows:\n",
    "`int\tft_atoi(const char *str);`"
   ]
  },
  {
   "cell_type": "code",
   "execution_count": null,
   "metadata": {
    "vscode": {
     "languageId": "c"
    }
   },
   "outputs": [],
   "source": [
    "int\tft_atoi(const char *str)\n",
    "{\n",
    "\tint\ti;\n",
    "\tint\tsign;\n",
    "\tint\tnum;\n",
    "\n",
    "\ti = 0;\n",
    "\tsign = 1;\n",
    "\tnum = 0;\n",
    "\twhile (str[i] == 32 || (str[i] >= 9 && str[i] <= 13))\n",
    "\t\ti++;\n",
    "\tif (str[i] == '-' || str[i] == '+')\n",
    "\t{\n",
    "\t\tif (str[i] == '-')\n",
    "\t\t\tsign = -1;\n",
    "\t\ti++;\n",
    "\t}\n",
    "\twhile (str[i] >= '0' && str[i] <= '9')\n",
    "\t{\n",
    "\t\tnum = num * 10 + str[i] - 48;\n",
    "\t\ti++;\n",
    "\t}\n",
    "\tnum = num * sign;\n",
    "\treturn (num);\n",
    "}"
   ]
  },
  {
   "cell_type": "markdown",
   "metadata": {},
   "source": [
    "## ft_strcmp"
   ]
  },
  {
   "cell_type": "markdown",
   "metadata": {},
   "source": [
    "Assignment name  : ft_strcmp \\\n",
    "Expected files   : ft_strcmp.c \\\n",
    "Allowed functions: none\n",
    "\n",
    "--------------------------------------------------------------------------------\n",
    "\n",
    "Reproduce the behavior of the function strcmp (man strcmp).\n",
    "\n",
    "Your function must be declared as follows:\n",
    "`int    ft_strcmp(char *s1, char *s2);`"
   ]
  },
  {
   "cell_type": "code",
   "execution_count": null,
   "metadata": {
    "vscode": {
     "languageId": "c"
    }
   },
   "outputs": [],
   "source": [
    "int\tft_strcmp(char *s1, char *s2)\n",
    "{\n",
    "\tint\ti = 0;\n",
    "\twhile (s1[i] || s2[i])\n",
    "\t{\n",
    "\t\tif (s1[i] != s2[i])\n",
    "\t\t\treturn (s1[i] - s2[i]);\n",
    "\t\ti++;\n",
    "\t}\n",
    "\treturn (0);\n",
    "}"
   ]
  },
  {
   "cell_type": "markdown",
   "metadata": {},
   "source": [
    "## ft_strcspn"
   ]
  },
  {
   "cell_type": "markdown",
   "metadata": {},
   "source": [
    "Assignment name\t: ft_strcspn \\\n",
    "Expected files\t: ft_strcspn.c \\\n",
    "Allowed functions: None\n",
    "\n",
    "---------------------------------------------------------------\n",
    "\n",
    "Reproduce exactly the behavior of the function strcspn (man strcspn).\n",
    "\n",
    "The function should be prototyped as follows:\n",
    "`size_t\tft_strcspn(const char *s, const char *reject);`"
   ]
  },
  {
   "cell_type": "code",
   "execution_count": null,
   "metadata": {
    "vscode": {
     "languageId": "c"
    }
   },
   "outputs": [],
   "source": [
    "#include <aio.h>\n",
    "\n",
    "size_t\tft_strcspn(const char *s, const char *reject)\n",
    "{\n",
    "\tint i = 0;\n",
    "\tint j = 0;\n",
    "\twhile (s[i])\n",
    "\t{\n",
    "\t\tj = 0;\n",
    "\t\twhile (reject[j])\n",
    "\t\t{\n",
    "\t\t\tif (s[i] == reject[j])\n",
    "\t\t\t\treturn (i);\n",
    "\t\t\t\tj++;\n",
    "\t\t}\n",
    "\t\ti++;\n",
    "\t}\n",
    "\treturn (i);\n",
    "}"
   ]
  },
  {
   "cell_type": "markdown",
   "metadata": {},
   "source": [
    "## ft_strdup"
   ]
  },
  {
   "cell_type": "markdown",
   "metadata": {},
   "source": [
    "Assignment name  : ft_strdup \\\n",
    "Expected files   : ft_strdup.c \\\n",
    "Allowed functions: malloc\n",
    "\n",
    "--------------------------------------------------------------------------------\n",
    "\n",
    "Reproduce the behavior of the function strdup (man strdup).\n",
    "\n",
    "Your function must be declared as follows:\n",
    "`char    *ft_strdup(char *src);`"
   ]
  },
  {
   "cell_type": "code",
   "execution_count": null,
   "metadata": {
    "vscode": {
     "languageId": "c"
    }
   },
   "outputs": [],
   "source": [
    "#include <stdlib.h>\n",
    "\n",
    "char *ft_strdup(char *src)\n",
    "{\n",
    "\tchar *dst;\n",
    "\tint\ti = 0;\n",
    "\twhile (src[i])\n",
    "\t\ti++;\n",
    "\tdst = (char *)malloc((i + 1) * sizeof(char));\n",
    "\tif (dst == NULL)\n",
    "\t\treturn (NULL);\n",
    "\ti = 0;\n",
    "\twhile (src[i])\n",
    "\t{\n",
    "\t\tdst[i] = src[i];\n",
    "\t\ti++;\n",
    "\t}\n",
    "\tdst[i] = '\\0';\n",
    "\treturn (dst);\n",
    "}"
   ]
  },
  {
   "cell_type": "markdown",
   "metadata": {},
   "source": [
    "## ft_strpbrk"
   ]
  },
  {
   "cell_type": "markdown",
   "metadata": {},
   "source": [
    "Assignment name\t: ft_strpbrk \\\n",
    "Expected files\t: ft_strpbrk.c \\\n",
    "Allowed functions: None\n",
    "\n",
    "---------------------------------------------------------------\n",
    "\n",
    "Reproduce exactly the behavior of the function strpbrk (man strpbrk).\n",
    "\n",
    "The function should be prototyped as follows:\n",
    "`char\t*ft_strpbrk(const char *s1, const char *s2);`"
   ]
  },
  {
   "cell_type": "code",
   "execution_count": null,
   "metadata": {
    "vscode": {
     "languageId": "c"
    }
   },
   "outputs": [],
   "source": [
    "#include <stdio.h> // Libreria para NULL\n",
    "\n",
    "char\t*ft_strpbrk(const char *s1, const char *s2)\n",
    "{\n",
    "\tint i = 0;\n",
    "\tif (!s1 || !s2)\n",
    "\t\treturn (0);\n",
    "\twhile (*s1)\n",
    "\t{\n",
    "\t\ti = 0;\n",
    "\t\twhile (s2[i])\n",
    "\t\t{\n",
    "\t\t\tif (*s1 == s2[i])\n",
    "\t\t\t\treturn ((char *)s1);\n",
    "\t\t\ti++;\n",
    "\t\t}\n",
    "\t\ts1++;\n",
    "\t}\n",
    "\treturn (NULL);\n",
    "}"
   ]
  },
  {
   "cell_type": "markdown",
   "metadata": {},
   "source": [
    "## ft_strrev"
   ]
  },
  {
   "cell_type": "markdown",
   "metadata": {},
   "source": [
    "Assignment name  : ft_strrev \\\n",
    "Expected files   : ft_strrev.c \\\n",
    "Allowed functions: none\n",
    "\n",
    "--------------------------------------------------------------------------------\n",
    "\n",
    "Write a function that reverses (in-place) a string. \\\n",
    "It must return its parameter.\n",
    "\n",
    "Your function must be declared as follows:\n",
    "`char    *ft_strrev(char *str);`"
   ]
  },
  {
   "cell_type": "code",
   "execution_count": null,
   "metadata": {
    "vscode": {
     "languageId": "c"
    }
   },
   "outputs": [],
   "source": [
    "char    *ft_strrev(char *str)\n",
    "{\n",
    "\tint i = 0;\n",
    "\tint len = 0;\n",
    "\tchar aux;\n",
    "\twhile (str[len])\n",
    "\t\tlen++;\n",
    "\twhile (str[i])\n",
    "\t{\n",
    "\t\taux = str[i];\n",
    "\t\tstr[i] = str[len];\n",
    "\t\tstr[len] = aux;\n",
    "\t\ti++;\n",
    "\t\tlen--;\n",
    "\t}\n",
    "\treturn (str);\n",
    "}"
   ]
  },
  {
   "cell_type": "markdown",
   "metadata": {},
   "source": [
    "## ft_strspn"
   ]
  },
  {
   "cell_type": "markdown",
   "metadata": {},
   "source": [
    "Assignment name\t: ft_strspn \\\n",
    "Expected files\t: ft_strspn.c \\\n",
    "Allowed functions: none\n",
    "\n",
    "---------------------------------------------------------------\n",
    "\n",
    "Reproduce exactly the behavior of the strspn function (man strspn).\n",
    "\n",
    "The function should be prototyped as follows:\n",
    "`size_t\tft_strspn(const char *s, const char *accept);`"
   ]
  },
  {
   "cell_type": "code",
   "execution_count": null,
   "metadata": {
    "vscode": {
     "languageId": "c"
    }
   },
   "outputs": [],
   "source": [
    "#include <stddef.h>\n",
    "#include <stdbool.h>\n",
    "\n",
    "size_t\tft_strspn(const char *s, const char *accept)\n",
    "{\n",
    "\tint i = 0;\n",
    "\tint j = 0;\n",
    "\tsize_t byte = 0;\n",
    "\tbool same = false;\n",
    "\twhile (s[i])\n",
    "\t{\n",
    "\t\tj = 0;\n",
    "\t\twhile (accept[j])\n",
    "\t\t{\n",
    "\t\t\tif (s[i] == accept[j])\n",
    "\t\t\t{\n",
    "\t\t\t\tsame = true;\n",
    "\t\t\t\tbyte++;\n",
    "\t\t\t\tbreak;\n",
    "\t\t\t}\n",
    "\t\t\tj++;\n",
    "\t\t}\n",
    "\t\tif (same == false)\n",
    "\t\t\tbreak;\n",
    "\t\tsame = false;\n",
    "\t\ti++;\n",
    "\t}\n",
    "\treturn (byte);\n",
    "}"
   ]
  },
  {
   "cell_type": "markdown",
   "metadata": {},
   "source": [
    "## inter"
   ]
  },
  {
   "cell_type": "markdown",
   "metadata": {},
   "source": [
    "Assignment name  : inter \\\n",
    "Expected files   : inter.c \\\n",
    "Allowed functions: write\n",
    "\n",
    "--------------------------------------------------------------------------------\n",
    "\n",
    "Write a program that takes two strings and displays, without doubles, the characters that appear in both strings, in the order they appear in the first one. \\\n",
    "The display will be followed by a \\n.\n",
    "\n",
    "If the number of arguments is not 2, the program displays \\n.\n",
    "\n",
    "### Examples:"
   ]
  },
  {
   "cell_type": "code",
   "execution_count": null,
   "metadata": {
    "vscode": {
     "languageId": "shellscript"
    }
   },
   "outputs": [],
   "source": [
    "$>./inter \"padinton\" \"paqefwtdjetyiytjneytjoeyjnejeyj\" | cat -e\n",
    "padinto$\n",
    "\n",
    "$>./inter ddf6vewg64f gtwthgdwthdwfteewhrtag6h4ffdhsd | cat -e\n",
    "df6ewg4$\n",
    "\n",
    "$>./inter \"rien\" \"cette phrase ne cache rien\" | cat -e\n",
    "rien$\n",
    "\n",
    "$>./inter | cat -e\n",
    "$"
   ]
  },
  {
   "cell_type": "code",
   "execution_count": null,
   "metadata": {
    "vscode": {
     "languageId": "c"
    }
   },
   "outputs": [],
   "source": [
    "#include <unistd.h>\n",
    "#include <stdbool.h>\n",
    "\n",
    "int main(int argc, char **argv)\n",
    "{\n",
    "\tint i = 0;\n",
    "\tint j = 0;\n",
    "\tchar aux[1000];\n",
    "\tint num = 0;\n",
    "\tbool same;\n",
    "\tsame = false;\n",
    "\tif (argc == 3)\n",
    "\t{\n",
    "\t\twhile (argv[1][i])\n",
    "\t\t{\n",
    "\t\t\t\n",
    "\t\t\tj = 0;\n",
    "\t\t\twhile (argv[2][j])\n",
    "\t\t\t{\n",
    "\t\t\t\tif (argv[1][i] == argv[2][j])\n",
    "\t\t\t\t{\n",
    "\t\t\t\t\taux[num] = argv[1][i];\n",
    "\t\t\t\t\tnum++;\n",
    "\t\t\t\t}\n",
    "\t\t\t\tj++;\n",
    "\t\t\t}\n",
    "\t\t\ti++;\n",
    "\t\t}\n",
    "\t\twrite(1, &aux[0], 1);\n",
    "\t\ti = 1;\n",
    "\t\twhile (aux[i])\n",
    "\t\t{\n",
    "\t\t\tj = i - 1;\n",
    "\t\t\twhile (j >= 0)\n",
    "\t\t\t{\n",
    "\t\t\t\tif (aux[j] == aux[i])\n",
    "\t\t\t\t\tsame = true;\n",
    "\t\t\t\tj--;\n",
    "\t\t\t}\n",
    "\t\t\tif (!same)\n",
    "\t\t\t\twrite(1, &aux[i], 1);\n",
    "\t\t\tsame = false;\n",
    "\t\t\ti++;\n",
    "\t\t}\n",
    "\t}\n",
    "\twrite(1, \"\\n\", 1);\n",
    "\treturn (0);\n",
    "}"
   ]
  },
  {
   "cell_type": "markdown",
   "metadata": {},
   "source": [
    "## is_power_of_2"
   ]
  },
  {
   "cell_type": "markdown",
   "metadata": {},
   "source": [
    "Assignment name  : is_power_of_2 \\\n",
    "Expected files   : is_power_of_2.c \\\n",
    "Allowed functions: none\n",
    "\n",
    "--------------------------------------------------------------------------------\n",
    "\n",
    "Write a function that determines if a given number is a power of 2. \\\n",
    "This function returns 1 if the given number is a power of 2, otherwise it returns 0.\n",
    "\n",
    "Your function must be declared as follows:\n",
    "`int\t    is_power_of_2(unsigned int n);`"
   ]
  },
  {
   "cell_type": "code",
   "execution_count": null,
   "metadata": {
    "vscode": {
     "languageId": "c"
    }
   },
   "outputs": [],
   "source": [
    "int is_power_of_2(unsigned int n)\n",
    "{\n",
    "\tif (n == 0 || n == 1)\n",
    "\t\treturn (0);\n",
    "\twhile (n > 1)\n",
    "\t{\n",
    "\t\tif (n % 2 == 0)\n",
    "\t\t\tn = n / 2;\n",
    "\t\telse\n",
    "\t\t\treturn (0);\n",
    "\t}\n",
    "\treturn (1);\n",
    "}"
   ]
  },
  {
   "cell_type": "markdown",
   "metadata": {},
   "source": [
    "## last_word"
   ]
  },
  {
   "cell_type": "markdown",
   "metadata": {},
   "source": [
    "Assignment name  : last_word \\\n",
    "Expected files   : last_word.c \\\n",
    "Allowed functions: write\n",
    "\n",
    "--------------------------------------------------------------------------------\n",
    "\n",
    "Write a program that takes a string and displays its last word followed by a \\n.\n",
    "A word is a section of string delimited by spaces/tabs or by the start/end of the string.\n",
    "\n",
    "If the number of parameters is not 1, or there are no words, display a newline.\n",
    "\n",
    "### Example:"
   ]
  },
  {
   "cell_type": "code",
   "execution_count": null,
   "metadata": {
    "vscode": {
     "languageId": "shellscript"
    }
   },
   "outputs": [],
   "source": [
    "$> ./last_word \"FOR PONY\" | cat -e\n",
    "PONY$\n",
    "\n",
    "$> ./last_word \"this        ...       is sparta, then again, maybe    not\" | cat -e\n",
    "not$\n",
    "\n",
    "$> ./last_word \"   \" | cat -e\n",
    "$\n",
    "\n",
    "$> ./last_word \"a\" \"b\" | cat -e\n",
    "$\n",
    "\n",
    "$> ./last_word \"  lorem,ipsum  \" | cat -e\n",
    "lorem,ipsum$"
   ]
  },
  {
   "cell_type": "code",
   "execution_count": null,
   "metadata": {
    "vscode": {
     "languageId": "c"
    }
   },
   "outputs": [],
   "source": [
    "#include <unistd.h>\n",
    "\n",
    "int main(int argc, char **argv)\n",
    "{\n",
    "\tint i = 0;\n",
    "\tif (argc == 2)\n",
    "\t{\n",
    "\t\twhile (argv[1][i])\n",
    "\t\t\ti++;\n",
    "\t\twhile (i > 0)\n",
    "\t\t{\n",
    "\t\t\tif (argv[1][i] == ' ' && argv[1][i + 1] != ' ' && argv[1][i + 1] != '\\0')\n",
    "\t\t\t\tbreak;\n",
    "\t\t\ti--;\n",
    "\t\t}\n",
    "\t\twhile (argv[1][i])\n",
    "\t\t{\n",
    "\t\t\tif (argv[1][i] != ' ')\n",
    "\t\t\t\twrite(1, &argv[1][i], 1);\n",
    "\t\t\ti++;\n",
    "\t\t}\n",
    "\t\t\t\n",
    "\t}\n",
    "\twrite(1, \"\\n\", 1);\n",
    "\treturn (0);\n",
    "}"
   ]
  },
  {
   "cell_type": "markdown",
   "metadata": {},
   "source": [
    "## max"
   ]
  },
  {
   "cell_type": "markdown",
   "metadata": {},
   "source": [
    "Assignment name  : max /\n",
    "Expected files   : max.c /\n",
    "Allowed functions: none\n",
    "\n",
    "--------------------------------------------------------------------------------\n",
    "\n",
    "Write the following function:\n",
    "`int\t\tmax(int* tab, unsigned int len);`\n",
    "\n",
    "The first parameter is an array of int, the second is the number of elements in the array. \\\n",
    "The function returns the largest number found in the array.\n",
    "\n",
    "If the array is empty, the function returns 0."
   ]
  },
  {
   "cell_type": "code",
   "execution_count": null,
   "metadata": {
    "vscode": {
     "languageId": "c"
    }
   },
   "outputs": [],
   "source": [
    "int\tmax(int* tab, unsigned int len)\n",
    "{\n",
    "\tif (len == 0)\n",
    "\t\treturn (0);\n",
    "\tunsigned int i = 0;\n",
    "\tint num = tab[i];\n",
    "\twhile(i < len)\n",
    "\t{\n",
    "\t\tif (num <  tab[i])\n",
    "\t\t\tnum = tab[i];\n",
    "\t\ti++;\n",
    "\t}\n",
    "\treturn (num);\n",
    "}"
   ]
  },
  {
   "cell_type": "markdown",
   "metadata": {},
   "source": [
    "## print_bits"
   ]
  },
  {
   "cell_type": "markdown",
   "metadata": {},
   "source": [
    "Assignment name  : print_bits /\n",
    "Expected files   : print_bits.c /\n",
    "Allowed functions: write\n",
    "\n",
    "--------------------------------------------------------------------------------\n",
    "\n",
    "Write a function that takes a byte, and prints it in binary WITHOUT A NEWLINE AT THE END.\n",
    "\n",
    "Your function must be declared as follows:\n",
    "`void\tprint_bits(unsigned char octet);`\n",
    "\n",
    "Example, if you pass 2 to print_bits, it will print \"00000010\""
   ]
  },
  {
   "cell_type": "code",
   "execution_count": null,
   "metadata": {
    "vscode": {
     "languageId": "c"
    }
   },
   "outputs": [],
   "source": [
    "#include <unistd.h>\n",
    "\n",
    "void print_bits(unsigned char octet)\n",
    "{\n",
    "\tint i = 7;\n",
    "\twhile (i-- >= 0)\n",
    "\t{\n",
    "\t\tif (octet & (1 << i))\n",
    "            write (1, \"1\", 1);\n",
    "        else\n",
    "            write (1, \"0\", 1);\n",
    "\t}\n",
    "}"
   ]
  },
  {
   "cell_type": "markdown",
   "metadata": {},
   "source": [
    "## reverse_bits"
   ]
  },
  {
   "cell_type": "markdown",
   "metadata": {
    "vscode": {
     "languageId": "c"
    }
   },
   "source": [
    "Assignment name  : reverse_bits \\\n",
    "Expected files   : reverse_bits.c \\\n",
    "Allowed functions: none\n",
    "\n",
    "--------------------------------------------------------------------------------\n",
    "\n",
    "Write a function that takes a byte, reverses it, bit by bit (like the example) and returns the result.\n",
    "\n",
    "Your function must be declared as follows:\n",
    "`unsigned char\treverse_bits(unsigned char octet);`\n",
    "\n",
    "### Example:"
   ]
  },
  {
   "cell_type": "code",
   "execution_count": null,
   "metadata": {
    "vscode": {
     "languageId": "c"
    }
   },
   "outputs": [],
   "source": [
    "  1 byte\n",
    "____________\n",
    " 0100  0001\n",
    "     ||\n",
    "     \\/\n",
    " 1000  0010"
   ]
  },
  {
   "cell_type": "code",
   "execution_count": null,
   "metadata": {
    "vscode": {
     "languageId": "c"
    }
   },
   "outputs": [],
   "source": [
    "unsigned char\treverse_bits(unsigned char octet)\n",
    "{\n",
    "\tint i = 7;\n",
    "\tunsigned char res = 0;\n",
    "\twhile (i >= 0)\n",
    "\t{\n",
    "\t\tif ((octet & (1 << i)))\n",
    "\t\t\tres = res | (1 << (7 - i));\n",
    "\t\ti--;\n",
    "\t}\n",
    "\treturn (res);\n",
    "}"
   ]
  },
  {
   "cell_type": "markdown",
   "metadata": {},
   "source": [
    "## snake_to_camel"
   ]
  },
  {
   "cell_type": "markdown",
   "metadata": {},
   "source": [
    "Assignment name  : snake_to_camel \\\n",
    "Expected files   : snake_to_camel.c \\\n",
    "Allowed functions: malloc, free, realloc, write\n",
    "\n",
    "--------------------------------------------------------------------------------\n",
    "\n",
    "Write a program that takes a single string in snake_case format and converts it into a string in lowerCamelCase format.\n",
    "- A snake_case string is a string where each word is in lower case, separated by an underscore \"_\".\n",
    "- A lowerCamelCase string is a string where each word begins with a capital letter except for the first one.\n",
    "\n",
    "### Examples:"
   ]
  },
  {
   "cell_type": "code",
   "execution_count": null,
   "metadata": {
    "vscode": {
     "languageId": "shellscript"
    }
   },
   "outputs": [],
   "source": [
    "$>./camel_to_snake \"here_is_a_snake_case_word\"\n",
    "hereIsASnakeCaseWord\n",
    "\n",
    "$>./camel_to_snake \"hello_world\" | cat -e\n",
    "helloWorld$\n",
    "\n",
    "$>./camel_to_snake | cat -e\n",
    "$"
   ]
  },
  {
   "cell_type": "code",
   "execution_count": null,
   "metadata": {
    "vscode": {
     "languageId": "c"
    }
   },
   "outputs": [],
   "source": [
    "#include <unistd.h>\n",
    "\n",
    "int main(int argc, char **argv)\n",
    "{\n",
    "\tint i = 0;\n",
    "\tif (argc == 2)\n",
    "\t{\n",
    "\t\twhile(argv[1][i])\n",
    "\t\t{\n",
    "\t\t\tif (argv[1][i] == '_')\n",
    "\t\t\t{\n",
    "\t\t\t\ti++;\n",
    "\t\t\t\targv[1][i] = argv[1][i] - 32;\n",
    "\t\t\t}\n",
    "\t\t\twrite (1, &argv[1][i], 1);\n",
    "\t\t\ti++;\n",
    "\t\t}\n",
    "\t}\n",
    "\twrite(1, \"\\n\", 1);\n",
    "\treturn (0);\n",
    "}"
   ]
  },
  {
   "cell_type": "markdown",
   "metadata": {},
   "source": [
    "## swap_bits"
   ]
  },
  {
   "cell_type": "markdown",
   "metadata": {},
   "source": [
    "Assignment name  : swap_bits \\\n",
    "Expected files   : swap_bits.c \\\n",
    "Allowed functions: none\n",
    "\n",
    "--------------------------------------------------------------------------------\n",
    "\n",
    "Write a function that takes a byte, swaps its halves (like the example) and returns the result.\n",
    "\n",
    "Your function must be declared as follows:\n",
    "`unsigned char\tswap_bits(unsigned char octet);`\n",
    "\n",
    "### Example:"
   ]
  },
  {
   "cell_type": "code",
   "execution_count": null,
   "metadata": {
    "vscode": {
     "languageId": "shellscript"
    }
   },
   "outputs": [],
   "source": [
    "   1 byte\n",
    "_____________\n",
    " 0100 | 0001\n",
    "     \\ /\n",
    "     / \\\n",
    " 0001 | 0100"
   ]
  },
  {
   "cell_type": "code",
   "execution_count": null,
   "metadata": {
    "vscode": {
     "languageId": "c"
    }
   },
   "outputs": [],
   "source": [
    "unsigned char swap_bits(unsigned char octet)\n",
    "{\n",
    "\treturn ((octet >> 4) | (octet << 4));\n",
    "}"
   ]
  },
  {
   "cell_type": "markdown",
   "metadata": {},
   "source": [
    "## union"
   ]
  },
  {
   "cell_type": "markdown",
   "metadata": {},
   "source": [
    "Assignment name  : union \\\n",
    "Expected files   : union.c \\\n",
    "Allowed functions: write\n",
    "\n",
    "--------------------------------------------------------------------------------\n",
    "\n",
    "Write a program that takes two strings and displays, without doubles, the characters that appear in either one of the strings. \\\n",
    "The display will be in the order characters appear in the command line, and will be followed by a \\n.\n",
    "\n",
    "If the number of arguments is not 2, the program displays \\n.\n",
    "\n",
    "### Example:"
   ]
  },
  {
   "cell_type": "code",
   "execution_count": null,
   "metadata": {
    "vscode": {
     "languageId": "shellscript"
    }
   },
   "outputs": [],
   "source": [
    "$>./union zpadinton \"paqefwtdjetyiytjneytjoeyjnejeyj\" | cat -e\n",
    "zpadintoqefwjy$\n",
    "\n",
    "$>./union ddf6vewg64f gtwthgdwthdwfteewhrtag6h4ffdhsd | cat -e\n",
    "df6vewg4thras$\n",
    "\n",
    "$>./union \"rien\" \"cette phrase ne cache rien\" | cat -e\n",
    "rienct phas$\n",
    "\n",
    "$>./union | cat -e\n",
    "$\n",
    "\n",
    "$>./union \"rien\" | cat -e\n",
    "$"
   ]
  },
  {
   "cell_type": "code",
   "execution_count": null,
   "metadata": {
    "vscode": {
     "languageId": "c"
    }
   },
   "outputs": [],
   "source": [
    "#include <unistd.h>\n",
    "\n",
    "int main(int argc, char **argv)\n",
    "{\n",
    "    if (argc == 3)\n",
    "    {\n",
    "        int ascii[256] = {0};\n",
    "        int i = 0;\n",
    "        while (argv[1][i])\n",
    "        {\n",
    "            if (!ascii[(int)argv[1][i]])\n",
    "            {\n",
    "                write(1, &argv[1][i], 1);\n",
    "                ascii[(int)argv[1][i]] = 1;\n",
    "            }\n",
    "            i++;\n",
    "        }\n",
    "\t\ti = 0;\n",
    "        while (argv[2][i])\n",
    "        {\n",
    "            if (!ascii[(int)argv[2][i]])\n",
    "            {\n",
    "                write(1, &argv[2][i], 1);\n",
    "                ascii[(int)argv[2][i]] = 1;\n",
    "            }\n",
    "            i++;\n",
    "        }\n",
    "    }\n",
    "    write(1, \"\\n\", 1);\n",
    "    return 0;\n",
    "}"
   ]
  },
  {
   "cell_type": "markdown",
   "metadata": {},
   "source": [
    "## wdmatch"
   ]
  },
  {
   "cell_type": "markdown",
   "metadata": {},
   "source": [
    "Assignment name  : wdmatch \\\n",
    "Expected files   : wdmatch.c \\\n",
    "Allowed functions: write\n",
    "\n",
    "--------------------------------------------------------------------------------\n",
    "\n",
    "Write a program that takes two strings and checks whether it's possible to write the first string with characters from the second string, while respecting the order in which these characters appear in the second string. \\\n",
    "If it's possible, the program displays the string, followed by a \\n, otherwise it simply displays a \\n.\n",
    "\n",
    "If the number of arguments is not 2, the program displays a \\n.\n",
    "\n",
    "### Examples:"
   ]
  },
  {
   "cell_type": "code",
   "execution_count": null,
   "metadata": {
    "vscode": {
     "languageId": "shellscript"
    }
   },
   "outputs": [],
   "source": [
    "$>./wdmatch \"faya\" \"fgvvfdxcacpolhyghbreda\" | cat -e\n",
    "faya$\n",
    "\n",
    "$>./wdmatch \"faya\" \"fgvvfdxcacpolhyghbred\" | cat -e\n",
    "$\n",
    "\n",
    "$>./wdmatch \"forty two\" \"qfqfsoudf arzgrsayns tsryegftdgs sjytwdekuooixq \" | cat -e\n",
    "forty two$\n",
    "\n",
    "$>./wdmatch \"error\" rrerrrfiiljdfxjyuifrrvcoojh | cat -e\n",
    "$\n",
    "\n",
    "$>./wdmatch | cat -e\n",
    "$"
   ]
  },
  {
   "cell_type": "code",
   "execution_count": null,
   "metadata": {
    "vscode": {
     "languageId": "c"
    }
   },
   "outputs": [],
   "source": [
    "#include <unistd.h>\n",
    "\n",
    "int main(int argc, char **argv)\n",
    "{\n",
    "    int i = 0;\n",
    "    int j;\n",
    "    if (argc == 3)\n",
    "    {\n",
    "        j = 0;\n",
    "        while (argv[2][j])\n",
    "        {\n",
    "            if (argv[1][i] == argv[2][j])\n",
    "                i++;\n",
    "            j++;\n",
    "        }\n",
    "        if (argv[1][i] == '\\0')\n",
    "        {\n",
    "            i = 0;\n",
    "            while(argv[1][i])\n",
    "            {\n",
    "                write(1, &argv[1][i], 1);\n",
    "                i++;\n",
    "            }\n",
    "        }\n",
    "    }\n",
    "    write(1, \"\\n\", 1);\n",
    "    return(0);\n",
    "}"
   ]
  },
  {
   "cell_type": "markdown",
   "metadata": {},
   "source": [
    "# LEVEL 3"
   ]
  },
  {
   "cell_type": "markdown",
   "metadata": {},
   "source": [
    "## add_prime_sum"
   ]
  },
  {
   "cell_type": "markdown",
   "metadata": {},
   "source": [
    "Assignment name  : add_prime_sum \\\n",
    "Expected files   : add_prime_sum.c \\\n",
    "Allowed functions: write, exit\n",
    "\n",
    "--------------------------------------------------------------------------------\n",
    "\n",
    "Write a program that takes a positive integer as argument and displays the sum of all prime numbers inferior or equal to it followed by a newline. \\\n",
    "If the number of arguments is not 1, or the argument is not a positive number, just display 0 followed by a newline.\n",
    "\n",
    "Yes, the examples are right.\n",
    "\n",
    "### Examples:"
   ]
  },
  {
   "cell_type": "code",
   "execution_count": null,
   "metadata": {
    "vscode": {
     "languageId": "shellscript"
    }
   },
   "outputs": [],
   "source": [
    "$>./add_prime_sum 5\n",
    "10\n",
    "\n",
    "$>./add_prime_sum 7 | cat -e\n",
    "17$\n",
    "\n",
    "$>./add_prime_sum | cat -e\n",
    "0$"
   ]
  },
  {
   "cell_type": "code",
   "execution_count": null,
   "metadata": {
    "vscode": {
     "languageId": "c"
    }
   },
   "outputs": [],
   "source": [
    "#include <unistd.h>\n",
    "\n",
    "int\tft_atoi(char *s)\n",
    "{\n",
    "\tint\tnum = 0;\n",
    "\n",
    "\twhile (*s)\n",
    "\t\tnum = num * 10 + *s++ - '0';\n",
    "\treturn (num);\n",
    "}\n",
    "\n",
    "int\tis_prime(int num)\n",
    "{\n",
    "\tint\ti = 2;\n",
    "\tif (num <= 1)\n",
    "\t\treturn (0);\n",
    "\twhile (i * i <= num)\n",
    "\t{\n",
    "\t\tif (num % i == 0)\n",
    "\t\t\treturn (0);\n",
    "\t\ti++;\n",
    "\t}\n",
    "\treturn (1);\n",
    "}\n",
    "\n",
    "void\tft_putnbr(int n)\n",
    "{\n",
    "\tif (n >= 10)\n",
    "\t\tft_putnbr(n / 10);\n",
    "\tchar num = (n % 10) + '0';\n",
    "\twrite(1, &num, 1);\n",
    "}\n",
    "\n",
    "int main(int argc, char **argv)\n",
    "{\n",
    "\tif (argc != 2 || ft_atoi(argv[1]) < 0)\n",
    "\t\twrite(1, \"0\", 1);\n",
    "\tif (argc == 2)\n",
    "\t{\n",
    "\t\tint\tnbr = ft_atoi(argv[1]);\n",
    "\t\tint\tsum = 0;\n",
    "\t\twhile (nbr > 0)\n",
    "\t\t{\n",
    "\t\t\tif (is_prime(nbr))\n",
    "\t\t\t\tsum += nbr;\n",
    "\t\t\tnbr--;\n",
    "\t\t}\n",
    "\t\tft_putnbr(sum);\n",
    "\t}\n",
    "\twrite(1, \"\\n\", 1);\n",
    "\treturn (0);\n",
    "}"
   ]
  },
  {
   "cell_type": "markdown",
   "metadata": {},
   "source": [
    "## epur_str"
   ]
  },
  {
   "cell_type": "markdown",
   "metadata": {},
   "source": [
    "Assignment name  : epur_str \\\n",
    "Expected files   : epur_str.c \\\n",
    "Allowed functions: write\n",
    "\n",
    "--------------------------------------------------------------------------------\n",
    "\n",
    "Write a program that takes a string, and displays this string with exactly one space between words, with no spaces or tabs either at the beginning or the end, followed by a \\n.\n",
    "- A \"word\" is defined as a part of a string delimited either by spaces/tabs, or by the start/end of the string.\n",
    "\n",
    "If the number of arguments is not 1, or if there are no words to display, the program displays \\n.\n",
    "\n",
    "### Example:"
   ]
  },
  {
   "cell_type": "code",
   "execution_count": null,
   "metadata": {
    "vscode": {
     "languageId": "shellscript"
    }
   },
   "outputs": [],
   "source": [
    "$> ./epur_str \"See? It's easy to print the same thing\" | cat -e\n",
    "See? It's easy to print the same thing$\n",
    "\n",
    "$> ./epur_str \" this        time it      will     be    more complex  . \" | cat -e\n",
    "this time it will be more complex .$\n",
    "\n",
    "$> ./epur_str \"No S*** Sherlock...\" \"nAw S*** ShErLaWQ...\" | cat -e\n",
    "$\n",
    "\n",
    "$> ./epur_str \"\" | cat -e\n",
    "$"
   ]
  },
  {
   "cell_type": "code",
   "execution_count": null,
   "metadata": {
    "vscode": {
     "languageId": "c"
    }
   },
   "outputs": [],
   "source": [
    "#include <unistd.h>\n",
    "\n",
    "int main(int argc, char const **argv)\n",
    "{\n",
    "\tint i = 0;\n",
    "\tint space = 0;\n",
    "\tif (argc == 2)\n",
    "\t{\n",
    "\t\twhile (argv[1][i] == ' ' || argv[1][i] == '\\t')\n",
    "\t\t\ti++;\n",
    "\t\twhile (argv[1][i])\n",
    "\t\t{\n",
    "\t\t\tif (argv[1][i] == ' ' || argv[1][i] == '\\t')\n",
    "\t\t\t\tspace = 1;\n",
    "\t\t\telse\n",
    "\t\t\t{\n",
    "\t\t\t\tif (space)\n",
    "\t\t\t\t\twrite(1, \" \", 1);\n",
    "\t\t\t\tspace = 0;\n",
    "\t\t\t\twrite(1, &argv[1][i], 1);\n",
    "\t\t\t}\n",
    "\t\t\ti++;\n",
    "\t\t}\n",
    "\t}\n",
    "\twrite(1, \"\\n\", 1);\n",
    "\treturn (0);\n",
    "}"
   ]
  },
  {
   "cell_type": "markdown",
   "metadata": {},
   "source": [
    "## expand_str"
   ]
  },
  {
   "cell_type": "markdown",
   "metadata": {},
   "source": [
    "Assignment name  : expand_str \\\n",
    "Expected files   : expand_str.c \\\n",
    "Allowed functions: write\n",
    "\n",
    "--------------------------------------------------------------------------------\n",
    "\n",
    "Write a program that takes a string and displays it with exactly three spaces between each word, with no spaces or tabs either at the beginning or the end, followed by a newline.\n",
    "- A word is a section of string delimited either by spaces/tabs, or by the start/end of the string.\n",
    "\n",
    "If the number of parameters is not 1, or if there are no words, simply display a newline.\n",
    "\n",
    "### Examples:"
   ]
  },
  {
   "cell_type": "code",
   "execution_count": null,
   "metadata": {
    "vscode": {
     "languageId": "shellscript"
    }
   },
   "outputs": [],
   "source": [
    "$> ./expand_str \"See? It's easy to print the same thing\" | cat -e\n",
    "See?   It's   easy   to   print   the   same   thing$\n",
    "\n",
    "$> ./expand_str \" this        time it      will     be    more complex  \" | cat -e\n",
    "this   time   it   will   be   more   complex$\n",
    "\n",
    "$> ./expand_str \"No S*** Sherlock...\" \"nAw S*** ShErLaWQ...\" | cat -e\n",
    "$\n",
    "\n",
    "$> ./expand_str \"\" | cat -e\n",
    "$"
   ]
  },
  {
   "cell_type": "code",
   "execution_count": null,
   "metadata": {
    "vscode": {
     "languageId": "c"
    }
   },
   "outputs": [],
   "source": [
    "#include <unistd.h>\n",
    "\n",
    "int main(int argc, char const *argv[])\n",
    "{\n",
    "    int i = 0;\n",
    "    int space = 0;\n",
    "    if (argc == 2)\n",
    "    {\n",
    "        while (argv[1][i] == ' ' || argv[1][i] == '\\t')\n",
    "            i++;\n",
    "        while (argv[1][i])\n",
    "        {\n",
    "            if (argv[1][i] == ' ' || argv[1][i] == '\\t')\n",
    "                space = 1;\n",
    "            else\n",
    "            {\n",
    "                if (space)\n",
    "                    write(1, \"   \", 3);\n",
    "                space = 0;\n",
    "                write(1, &argv[1][i], 1);\n",
    "            }\n",
    "            i++;\n",
    "        }\n",
    "    }\n",
    "    write(1, \"\\n\", 1);\n",
    "    return (0);\n",
    "}"
   ]
  },
  {
   "cell_type": "markdown",
   "metadata": {},
   "source": [
    "## ft_atoi_base"
   ]
  },
  {
   "cell_type": "markdown",
   "metadata": {},
   "source": [
    "Assignment name  : ft_atoi_base \\\n",
    "Expected files   : ft_atoi_base.c \\\n",
    "Allowed functions: none\n",
    "\n",
    "--------------------------------------------------------------------------------\n",
    "\n",
    "Write a function that converts the string argument str (base N <= 16) to an integer (base 10) and returns it.\n",
    "- The characters recognized in the input are: 0123456789abcdef\n",
    "- Those are, of course, to be trimmed according to the requested base. For example, base 4 recognizes \"0123\" and base 16 recognizes \"0123456789abcdef\".\n",
    "- Uppercase letters must also be recognized: \"12fdb3\" is the same as \"12FDB3\".\n",
    "- Minus signs ('-') are interpreted only if they are the first character of the string.\n",
    "\n",
    "Your function must be declared as follows:\n",
    "`int\tft_atoi_base(const char *str, int str_base);`"
   ]
  },
  {
   "cell_type": "code",
   "execution_count": null,
   "metadata": {
    "vscode": {
     "languageId": "c"
    }
   },
   "outputs": [],
   "source": [
    "int\t\tisvalid(char c, int base)\n",
    "{\n",
    "\tchar digits[17] = \"0123456789abcdef\";\n",
    "\tchar digits2[17] = \"0123456789ABCDEF\";\n",
    "\twhile (base--)\n",
    "\t\tif (digits[base] == c || digits2[base] == c)\n",
    "\t\t\treturn (base);\n",
    "\treturn (-1);\n",
    "}\n",
    "\n",
    "int\t\tft_atoi_base(const char *str, int str_base)\n",
    "{\n",
    "\tint result = 0;\n",
    "\tint sign = 1;\n",
    "\twhile (*str <= 32)\n",
    "\t\tstr++;\n",
    "\tif (*str == '-')\n",
    "\t\tsign = -1;\n",
    "\tif (*str == '-' || *str == '+')\n",
    "\t\tstr++;\n",
    "\twhile (isvalid(*str, str_base) != -1)\n",
    "\t\tresult = result * str_base + isvalid(*str, str_base);\n",
    "\treturn (result * sign);\n",
    "}"
   ]
  },
  {
   "cell_type": "markdown",
   "metadata": {},
   "source": [
    "## ft_list_size"
   ]
  },
  {
   "cell_type": "markdown",
   "metadata": {},
   "source": [
    "Assignment name  : ft_list_size \\\n",
    "Expected files   : ft_list_size.c, ft_list.h \\\n",
    "Allowed functions: none\n",
    "\n",
    "--------------------------------------------------------------------------------\n",
    "\n",
    "Write a function that returns the number of elements in the linked list that's passed to it.\n",
    "\n",
    "It must be declared as follows:\n",
    "`int\tft_list_size(t_list *begin_list);`\n",
    "\n",
    "You must use the following structure, and turn it in as a file called ft_list.h: \\\n",
    "typedef struct    s_list\t\\\n",
    "{\t\t\t\t\t\t\t\\\n",
    "....struct s_list.*next;\t\\\n",
    "....void..........*data;\t\\\n",
    "} t_list;"
   ]
  },
  {
   "cell_type": "code",
   "execution_count": null,
   "metadata": {
    "vscode": {
     "languageId": "c"
    }
   },
   "outputs": [],
   "source": [
    "// ft_list.h\n",
    "\n",
    "typedef struct    s_list\n",
    "{\n",
    "    struct s_list *next;\n",
    "    void          *data;\n",
    "} t_list;"
   ]
  },
  {
   "cell_type": "code",
   "execution_count": null,
   "metadata": {
    "vscode": {
     "languageId": "c"
    }
   },
   "outputs": [],
   "source": [
    "// ft_list_size.c\n",
    "\n",
    "#include \"ft_list.h\"\n",
    "\n",
    "int\tft_list_size(t_list *begin_list)\n",
    "{\n",
    "\tif (begin_list == 0)\n",
    "\t\treturn (0);\n",
    "\telse\n",
    "\t\treturn (1 + ft_list_size(begin_list->next));\n",
    "}"
   ]
  },
  {
   "cell_type": "markdown",
   "metadata": {},
   "source": [
    "## ft_range"
   ]
  },
  {
   "cell_type": "markdown",
   "metadata": {},
   "source": [
    "Assignment name  : ft_range \\\n",
    "Expected files   : ft_range.c \\\n",
    "Allowed functions: malloc\n",
    "\n",
    "--------------------------------------------------------------------------------\n",
    "\n",
    "Write the following function:\n",
    "`int     *ft_range(int start, int end);`\n",
    "\n",
    "It must allocate (with malloc()) an array of integers, fill it with consecutive values that begin at start and end at end (Including start and end !), then return a pointer to the first value of the array.\n",
    "\n",
    "### Examples:\n",
    "\n",
    "- With (1, 3) you will return an array containing 1, 2 and 3.\n",
    "- With (-1, 2) you will return an array containing -1, 0, 1 and 2.\n",
    "- With (0, 0) you will return an array containing 0.\n",
    "- With (0, -3) you will return an array containing 0, -1, -2 and -3."
   ]
  },
  {
   "cell_type": "code",
   "execution_count": null,
   "metadata": {
    "vscode": {
     "languageId": "c"
    }
   },
   "outputs": [],
   "source": [
    "#include <stdlib.h>\n",
    "\n",
    "int *ft_range(int start, int end)\n",
    "{\n",
    "\tint len = abs((end - start)) + 1;\n",
    "\tint *res = malloc(len * sizeof(int));\n",
    "\tif (!res)\n",
    "\t\treturn (NULL);\n",
    "\tint i = 0;\n",
    "\tif (start < end)\n",
    "\t{\n",
    "\t\twhile (start <= end)\n",
    "\t\t{\n",
    "\t\t\tres[i] = start;\n",
    "\t\t\tstart++;\n",
    "\t\t\ti++;\n",
    "\t\t}\n",
    "\t}\n",
    "\telse\n",
    "\t{\n",
    "\t\twhile (start >= end)\n",
    "\t\t{\n",
    "\t\t\tres[i] = start;\n",
    "\t\t\tstart--;\n",
    "\t\t\ti++;\n",
    "\t\t}\n",
    "\t}\n",
    "\treturn (res);\n",
    "}"
   ]
  },
  {
   "cell_type": "markdown",
   "metadata": {},
   "source": [
    "## ft_rrange"
   ]
  },
  {
   "cell_type": "markdown",
   "metadata": {},
   "source": [
    "Assignment name  : ft_rrange \\\n",
    "Expected files   : ft_rrange.c \\\n",
    "Allowed functions: malloc\n",
    "\n",
    "--------------------------------------------------------------------------------\n",
    "\n",
    "Write the following function:\n",
    "`int     *ft_rrange(int start, int end);`\n",
    "\n",
    "It must allocate (with malloc()) an array of integers, fill it with consecutive values that begin at end and end at start (Including start and end !), then return a pointer to the first value of the array.\n",
    "\n",
    "### Examples:\n",
    "\n",
    "- With (1, 3) you will return an array containing 3, 2 and 1\n",
    "- With (-1, 2) you will return an array containing 2, 1, 0 and -1.\n",
    "- With (0, 0) you will return an array containing 0.\n",
    "- With (0, -3) you will return an array containing -3, -2, -1 and 0."
   ]
  },
  {
   "cell_type": "code",
   "execution_count": null,
   "metadata": {
    "vscode": {
     "languageId": "c"
    }
   },
   "outputs": [],
   "source": [
    "#include <stdlib.h>\n",
    "\n",
    "int\t\t*ft_rrange(int start, int end)\n",
    "{\n",
    "\tint len = abs(end - start) + 1;\n",
    "\tint *res = malloc(len * sizeof(int));\n",
    "\tint step = 1;\n",
    "\tif (start > end)\n",
    "\t\tstep = 1;\n",
    "\telse\n",
    "\t\tstep = -1;\n",
    "\n",
    "\tint i = 0;\n",
    "\twhile (i < len)\n",
    "\t{\n",
    "\t\tres[i] = end;\n",
    "\t\tend += step;\n",
    "\t\ti++;\n",
    "\t}\n",
    "\treturn (res);\n",
    "}"
   ]
  },
  {
   "cell_type": "markdown",
   "metadata": {},
   "source": [
    "## hidenp"
   ]
  },
  {
   "cell_type": "markdown",
   "metadata": {},
   "source": [
    "Assignment name  : hidenp \\\n",
    "Expected files   : hidenp.c \\\n",
    "Allowed functions: write\n",
    "\n",
    "--------------------------------------------------------------------------------\n",
    "\n",
    "Write a program named hidenp that takes two strings and displays 1 followed by a newline if the first string is hidden in the second one, otherwise displays 0 followed by a newline.\n",
    "\n",
    "Let s1 and s2 be strings. We say that s1 is hidden in s2 if it's possible to find each character from s1 in s2, in the same order as they appear in s1. Also, the empty string is hidden in any string.\n",
    "\n",
    "If the number of parameters is not 2, the program displays a newline.\n",
    "\n",
    "### Examples:"
   ]
  },
  {
   "cell_type": "code",
   "execution_count": null,
   "metadata": {
    "vscode": {
     "languageId": "shellscript"
    }
   },
   "outputs": [],
   "source": [
    "$>./hidenp \"fgex.;\" \"tyf34gdgf;'ektufjhgdgex.;.;rtjynur6\" | cat -e\n",
    "1$\n",
    "\n",
    "$>./hidenp \"abc\" \"2altrb53c.sse\" | cat -e\n",
    "1$\n",
    "\n",
    "$>./hidenp \"abc\" \"btarc\" | cat -e\n",
    "0$\n",
    "\n",
    "$>./hidenp | cat -e\n",
    "$"
   ]
  },
  {
   "cell_type": "code",
   "execution_count": null,
   "metadata": {
    "vscode": {
     "languageId": "c"
    }
   },
   "outputs": [],
   "source": [
    "#include <unistd.h>\n",
    "\n",
    "int main(int argc, char **argv)\n",
    "{\n",
    "\tint i = 0;\n",
    "\tint j = 0;\n",
    "\tif (argc == 3)\n",
    "\t{\n",
    "\t\twhile (argv[1][i] && argv[2][j])\n",
    "\t\t{\n",
    "\t\t\tif (argv[1][i] == argv[2][j])\n",
    "\t\t\t\ti++;\n",
    "\t\t\tj++;\n",
    "\t\t}\n",
    "\t\tif (argv[1][i] == '\\0')\n",
    "\t\t\twrite(1, \"1\", 1);\n",
    "\t\telse\n",
    "\t\t\twrite(1, \"0\", 1);\n",
    "\t}\n",
    "\twrite(1, \"\\n\", 1);\n",
    "\treturn (0);\n",
    "}"
   ]
  },
  {
   "cell_type": "markdown",
   "metadata": {},
   "source": [
    "## lcm"
   ]
  },
  {
   "cell_type": "markdown",
   "metadata": {},
   "source": [
    "Assignment name  : lcm \\\n",
    "Expected files   : lcm.c \\\n",
    "Allowed functions: none\n",
    "\n",
    "--------------------------------------------------------------------------------\n",
    "\n",
    "Write a function who takes two unsigned int as parameters and returns the computed LCM of those parameters.\n",
    "\n",
    "LCM (Lowest Common Multiple) of two non-zero integers is the smallest postive integer divisible by the both integers. \\\n",
    "A LCM can be calculated in two ways:\n",
    "\n",
    "- You can calculate every multiples of each integers until you have a common multiple other than 0\n",
    "\n",
    "- You can use the HCF (Highest Common Factor) of these two integers and calculate as follows:\n",
    "\n",
    "\tLCM(x, y) = | x * y | / HCF(x, y)\n",
    "\n",
    "  | x * y | means \"Absolute value of the product of x by y\"\n",
    "\n",
    "If at least one integer is null, LCM is equal to 0.\n",
    "\n",
    "Your function must be prototyped as follows:\n",
    "`unsigned int    lcm(unsigned int a, unsigned int b);`"
   ]
  },
  {
   "cell_type": "code",
   "execution_count": null,
   "metadata": {
    "vscode": {
     "languageId": "c"
    }
   },
   "outputs": [],
   "source": [
    "unsigned int lcm(unsigned int a, unsigned int b)\n",
    "{\n",
    "\tunsigned int n;\t\n",
    "\tif (a == 0 || b == 0)\n",
    "\t\treturn (0);\n",
    "\tif (a > b)\n",
    "\t\tn = a;\n",
    "\telse\n",
    "\t\tn = b;\n",
    "\twhile (1)\n",
    "\t{\n",
    "\t\tif (n % a == 0 && n % b == 0)\n",
    "\t\t\treturn (n);\n",
    "\t\t++n;\n",
    "\t}\n",
    "}"
   ]
  },
  {
   "cell_type": "markdown",
   "metadata": {},
   "source": [
    "## paramsum"
   ]
  },
  {
   "cell_type": "markdown",
   "metadata": {},
   "source": [
    "Assignment name  : paramsum \\\n",
    "Expected files   : paramsum.c \\\n",
    "Allowed functions: write\n",
    "\n",
    "--------------------------------------------------------------------------------\n",
    "\n",
    "Write a program that displays the number of arguments passed to it, followed by a newline.\n",
    "\n",
    "If there are no arguments, just display a 0 followed by a newline.\n",
    "\n",
    "### Example:"
   ]
  },
  {
   "cell_type": "code",
   "execution_count": null,
   "metadata": {
    "vscode": {
     "languageId": "shellscript"
    }
   },
   "outputs": [],
   "source": [
    "$>./paramsum 1 2 3 5 7 24\n",
    "6\n",
    "\n",
    "$>./paramsum 6 12 24 | cat -e\n",
    "3$\n",
    "\n",
    "$>./paramsum | cat -e\n",
    "0$"
   ]
  },
  {
   "cell_type": "code",
   "execution_count": null,
   "metadata": {
    "vscode": {
     "languageId": "c"
    }
   },
   "outputs": [],
   "source": [
    "#include <unistd.h>\n",
    "\n",
    "void ft_putnbr(int n)\n",
    "{\n",
    "\tchar digit;\n",
    "\tif (n >= 10)\n",
    "\t\tft_putnbr(n / 10);\n",
    "\tdigit = (n % 10) + '0';\n",
    "\twrite(1, &digit, 1);\n",
    "}\n",
    "\n",
    "int\tmain(int argc, char **argv)\n",
    "{\n",
    "\t(void)argv;\n",
    "\tft_putnbr(argc - 1);\n",
    "\twrite(1, \"\\n\", 1);\n",
    "\treturn (0);\n",
    "}"
   ]
  },
  {
   "cell_type": "markdown",
   "metadata": {},
   "source": [
    "## pgcd"
   ]
  },
  {
   "cell_type": "markdown",
   "metadata": {},
   "source": [
    "Assignment name  : pgcd \\\n",
    "Expected files   : pgcd.c \\\n",
    "Allowed functions: printf, atoi, malloc, free\n",
    "\n",
    "--------------------------------------------------------------------------------\n",
    "\n",
    "Write a program that takes two strings representing two strictly positive integers that fit in an int. \\\n",
    "Display their highest common denominator followed by a newline (It's always a strictly positive integer).\n",
    "\n",
    "If the number of parameters is not 2, display a newline.\n",
    "\n",
    "### Examples:"
   ]
  },
  {
   "cell_type": "code",
   "execution_count": null,
   "metadata": {
    "vscode": {
     "languageId": "shellscript"
    }
   },
   "outputs": [],
   "source": [
    "$> ./pgcd 42 10 | cat -e\n",
    "2$\n",
    "\n",
    "$> ./pgcd 42 12 | cat -e\n",
    "6$\n",
    "\n",
    "$> ./pgcd 14 77 | cat -e\n",
    "7$\n",
    "\n",
    "$> ./pgcd 17 3 | cat -e\n",
    "1$\n",
    "\n",
    "$> ./pgcd | cat -e\n",
    "$"
   ]
  },
  {
   "cell_type": "code",
   "execution_count": null,
   "metadata": {
    "vscode": {
     "languageId": "c"
    }
   },
   "outputs": [],
   "source": [
    "#include <stdio.h>\n",
    "#include <stdlib.h>\n",
    "\n",
    "int main(int argc, char const *argv[])\n",
    "{\n",
    "\tif (argc == 3)\n",
    "\t{\n",
    "\t\tint num1 = atoi(argv[1]);\n",
    "\t\tint num2 = atoi(argv[2]);\n",
    "\t\tint aux = num1;\n",
    "\t\tif (num1 > 0 && num2 > 0)\n",
    "\t\t{\n",
    "\t\t\twhile (aux > 0)\n",
    "\t\t\t{\n",
    "\t\t\t\tif ((num1 % aux == 0) && (num2 % aux == 0))\n",
    "\t\t\t\t{\n",
    "\t\t\t\t\tprintf(\"%d\", aux);\n",
    "\t\t\t\t\treturn;\n",
    "\t\t\t\t}\n",
    "\t\t\t\taux--;\n",
    "\t\t\t}\n",
    "\t\t}\n",
    "\t}\n",
    "\tprintf(\"\\n\");\n",
    "\treturn (0);\n",
    "}"
   ]
  },
  {
   "cell_type": "markdown",
   "metadata": {},
   "source": [
    "## print_hex"
   ]
  },
  {
   "cell_type": "markdown",
   "metadata": {},
   "source": [
    "Assignment name  : print_hex \\\n",
    "Expected files   : print_hex.c \\\n",
    "Allowed functions: write\n",
    "\n",
    "--------------------------------------------------------------------------------\n",
    "\n",
    "Write a program that takes a positive (or zero) number expressed in base 10, and displays it in base 16 (lowercase letters) followed by a newline.\n",
    "\n",
    "If the number of parameters is not 1, the program displays a newline.\n",
    "\n",
    "### Examples:"
   ]
  },
  {
   "cell_type": "code",
   "execution_count": null,
   "metadata": {
    "vscode": {
     "languageId": "shellscript"
    }
   },
   "outputs": [],
   "source": [
    "$> ./print_hex \"10\" | cat -e\n",
    "a$\n",
    "\n",
    "$> ./print_hex \"255\" | cat -e\n",
    "ff$\n",
    "\n",
    "$> ./print_hex \"5156454\" | cat -e\n",
    "4eae66$\n",
    "\n",
    "$> ./print_hex | cat -e\n",
    "$"
   ]
  },
  {
   "cell_type": "code",
   "execution_count": null,
   "metadata": {
    "vscode": {
     "languageId": "c"
    }
   },
   "outputs": [],
   "source": [
    "#include <unistd.h>\n",
    "\n",
    "int\tft_atoi(char *str)\n",
    "{\n",
    "\tint n = 0;\n",
    "\twhile (*str != '\\0')\n",
    "\t{\n",
    "\t\tn = n * 10;\n",
    "\t\tn = n + *str - '0';\n",
    "\t\tstr++;\n",
    "\t}\n",
    "\treturn (n);\n",
    "}\n",
    "\n",
    "void\tprint_hex(int n)\n",
    "{\n",
    "\tchar hex_digits[] = \"0123456789abcdef\";\n",
    "\tif (n >= 16)\n",
    "\t\tprint_hex(n / 16);\n",
    "\twrite(1, &hex_digits[n % 16], 1);\n",
    "}\n",
    "\n",
    "int\tmain(int argc, char **argv)\n",
    "{\n",
    "\tif (argc == 2)\n",
    "\t\tprint_hex(ft_atoi(argv[1]));\n",
    "\twrite(1, \"\\n\", 1);\n",
    "\treturn (0);\n",
    "}"
   ]
  },
  {
   "cell_type": "markdown",
   "metadata": {},
   "source": [
    "## rstr_capitalizer"
   ]
  },
  {
   "cell_type": "markdown",
   "metadata": {},
   "source": [
    "Assignment name  : rstr_capitalizer \\\n",
    "Expected files   : rstr_capitalizer.c \\\n",
    "Allowed functions: write\n",
    "\n",
    "--------------------------------------------------------------------------------\n",
    "\n",
    "Write a program that takes one or more strings and, for each argument, puts the last character that is a letter of each word in uppercase and the rest in lowercase, then displays the result followed by a \\n.\n",
    "- A word is a section of string delimited by spaces/tabs or the start/end of the string. If a word has a single letter, it must be capitalized.\n",
    "- A letter is a character in the set [a-z, A-Z]\n",
    "\n",
    "If there are no parameters, display \\n.\n",
    "\n",
    "### Examples:"
   ]
  },
  {
   "cell_type": "code",
   "execution_count": null,
   "metadata": {
    "vscode": {
     "languageId": "c"
    }
   },
   "outputs": [],
   "source": [
    "$> ./rstr_capitalizer | cat -e\n",
    "$\n",
    "\n",
    "$> ./rstr_capitalizer \"a FiRSt LiTTlE TESt\" | cat -e\n",
    "A firsT littlE tesT$\n",
    "\n",
    "$> ./rstr_capitalizer \"SecONd teST A LITtle BiT   Moar comPLEX\" \"   But... This iS not THAT COMPLEX\" \"     Okay, this is the last 1239809147801 but not    the least    t\" | cat -e\n",
    "seconD tesT A littlE biT   moaR compleX$\n",
    "   but... thiS iS noT thaT compleX$\n",
    "     okay, thiS iS thE lasT 1239809147801 buT noT    thE leasT    T$"
   ]
  },
  {
   "cell_type": "code",
   "execution_count": null,
   "metadata": {
    "vscode": {
     "languageId": "c"
    }
   },
   "outputs": [],
   "source": [
    "#include <unistd.h>\n",
    "\n",
    "void    rstr_capitalizer(char *str)\n",
    "{\n",
    "    int i = 0;\n",
    "    while (str[i])\n",
    "    {\n",
    "        if (str[i] >= 'A' && str[i] <= 'Z')\n",
    "            str[i] += 32;\n",
    "        if ((str[i] >= 'a' && str[i] <= 'z') && (str[i + 1] == ' ' || str[i + 1] == '\\t' || str[i + 1] == '\\0'))\n",
    "            str[i] -= 32;\n",
    "        write(1, &str[i], 1);\n",
    "\t\ti++;\n",
    "    }\n",
    "}\n",
    "\n",
    "int main(int argc, char **argv)\n",
    "{\n",
    "    if (argc < 2)\n",
    "        write(1, \"\\n\", 1);\n",
    "    else\n",
    "    {\n",
    "        int i = 1;\n",
    "        while (i < argc)\n",
    "        {\n",
    "            rstr_capitalizer(argv[i]);\n",
    "            write(1, \"\\n\", 1);\n",
    "            i++;\n",
    "        }\n",
    "    }\n",
    "    return (0);\n",
    "}"
   ]
  },
  {
   "cell_type": "markdown",
   "metadata": {},
   "source": [
    "## str_capitalizer"
   ]
  },
  {
   "cell_type": "markdown",
   "metadata": {},
   "source": [
    "Assignment name  : str_capitalizer \\\n",
    "Expected files   : str_capitalizer.c \\\n",
    "Allowed functions: write\n",
    "\n",
    "--------------------------------------------------------------------------------\n",
    "\n",
    "Write a program that takes one or several strings and, for each argument, capitalizes the first character of each word (If it's a letter, obviously), puts the rest in lowercase, and displays the result on the standard output,\n",
    "followed by a \\n.\n",
    "- A \"word\" is defined as a part of a string delimited either by spaces/tabs, or by the start/end of the string. If a word only has one letter, it must be capitalized.\n",
    "\n",
    "If there are no arguments, the progam must display \\n.\n",
    "\n",
    "### Example:"
   ]
  },
  {
   "cell_type": "code",
   "execution_count": null,
   "metadata": {
    "vscode": {
     "languageId": "shellscript"
    }
   },
   "outputs": [],
   "source": [
    "$> ./str_capitalizer | cat -e\n",
    "$\n",
    "\n",
    "$> ./str_capitalizer \"a FiRSt LiTTlE TESt\" | cat -e\n",
    "A First Little Test$\n",
    "\n",
    "$> ./str_capitalizer \"__SecONd teST A LITtle BiT   Moar comPLEX\" \"   But... This iS not THAT COMPLEX\" \"     Okay, this is the last 1239809147801 but not    the least    t\" | cat -e\n",
    "__second Test A Little Bit   Moar Complex$\n",
    "   But... This Is Not That Complex$\n",
    "     Okay, This Is The Last 1239809147801 But Not    The Least    T$"
   ]
  },
  {
   "cell_type": "code",
   "execution_count": null,
   "metadata": {
    "vscode": {
     "languageId": "c"
    }
   },
   "outputs": [],
   "source": [
    "#include <unistd.h>\n",
    "\n",
    "void\tstr_capitalizer(char *str)\n",
    "{\n",
    "\tint i = 0;\n",
    "\tif (str[i] >= 'a' && 'z' >= str[i])\n",
    "\t\tstr[i] -= 32;\n",
    "\twrite(1, &str[i++], 1);\n",
    "\twhile (str[i])\n",
    "\t{\n",
    "\t\tif (str[i] >= 'A' && 'Z' >= str[i])\n",
    "\t\t\tstr[i] += 32;\n",
    "\t\tif ((str[i] >= 'a' && 'z' >= str[i]) && (str[i - 1] == ' ' || str[i - 1] == '\\t'))\n",
    "\t\t\tstr[i] -= 32;\n",
    "\t\twrite(1, &str[i], 1);\n",
    "\t\ti++;\n",
    "\t}\n",
    "}\n",
    "\n",
    "int main(int argc, char *argv[])\n",
    "{\n",
    "\tif (argc < 2)\n",
    "\t\twrite(1, \"\\n\", 1);\n",
    "\telse\n",
    "\t{\n",
    "\t\tint i = 1;\n",
    "\t\twhile (i < argc)\n",
    "\t\t{\n",
    "\t\t\tstr_capitalizer(argv[i]);\n",
    "\t\t\twrite(1, \"\\n\", 1);\n",
    "\t\t\ti++;\n",
    "\t\t}\n",
    "\t}\n",
    "\treturn (0);\n",
    "}"
   ]
  },
  {
   "cell_type": "markdown",
   "metadata": {},
   "source": [
    "## tab_mult"
   ]
  },
  {
   "cell_type": "markdown",
   "metadata": {},
   "source": [
    "Assignment name  : tab_mult \\\n",
    "Expected files   : tab_mult.c \\\n",
    "Allowed functions: write\n",
    "\n",
    "--------------------------------------------------------------------------------\n",
    "\n",
    "Write a program that displays a number's multiplication table.\n",
    "\n",
    "The parameter will always be a strictly positive number that fits in an int, and said number times 9 will also fit in an int.\n",
    "\n",
    "If there are no parameters, the program displays \\n.\n",
    "\n",
    "### Examples:"
   ]
  },
  {
   "cell_type": "code",
   "execution_count": null,
   "metadata": {
    "vscode": {
     "languageId": "shellscript"
    }
   },
   "outputs": [],
   "source": [
    "$>./tab_mult 9\n",
    "1 x 9 = 9\n",
    "2 x 9 = 18\n",
    "3 x 9 = 27\n",
    "4 x 9 = 36\n",
    "5 x 9 = 45\n",
    "6 x 9 = 54\n",
    "7 x 9 = 63\n",
    "8 x 9 = 72\n",
    "9 x 9 = 81\n",
    "\n",
    "$>./tab_mult 19\n",
    "1 x 19 = 19\n",
    "2 x 19 = 38\n",
    "3 x 19 = 57\n",
    "4 x 19 = 76\n",
    "5 x 19 = 95\n",
    "6 x 19 = 114\n",
    "7 x 19 = 133\n",
    "8 x 19 = 152\n",
    "9 x 19 = 171\n",
    "\n",
    "$>./tab_mult | cat -e\n",
    "$"
   ]
  },
  {
   "cell_type": "code",
   "execution_count": null,
   "metadata": {
    "vscode": {
     "languageId": "c"
    }
   },
   "outputs": [],
   "source": [
    "#include <unistd.h>\n",
    "\n",
    "int\tft_atoi(char *str)\n",
    "{\n",
    "\tint num = 0;\n",
    "\twhile (*str >= '0' && *str <= '9')\n",
    "\t{\n",
    "\t\tnum = num * 10 + *str - '0';\n",
    "\t\tstr++;\n",
    "\t}\n",
    "\treturn (num);\n",
    "}\n",
    "\n",
    "void\tft_putnbr(int num)\n",
    "{\n",
    "\tif (num / 10 > 0)\n",
    "\t\tft_putnbr(num / 10);\n",
    "\tchar c = (num % 10) + '0';\n",
    "\twrite(1, &c, 1);\n",
    "}\n",
    "\n",
    "int\tmain(int argc, char *argv[])\n",
    "{\n",
    "\tif (argc == 2)\n",
    "\t{\n",
    "\t\tint i = 1;\n",
    "\t\tint num = ft_atoi(argv[1]);\n",
    "\t\twhile (i <= 9 && num <= 238609183)\n",
    "\t\t{\n",
    "\t\t\tft_putnbr(i);\n",
    "\t\t\twrite(1, \" x \", 3);\n",
    "\t\t\tft_putnbr(num);\n",
    "\t\t\twrite(1, \" = \", 3);\n",
    "\t\t\tft_putnbr(i * num);\n",
    "\t\t\twrite(1, \"\\n\", 1);\n",
    "\t\t\ti++;\n",
    "\t\t}\n",
    "\t}\n",
    "\telse\n",
    "\t\twrite(1, \"\\n\", 1);\n",
    "\treturn (0);\n",
    "}"
   ]
  },
  {
   "cell_type": "markdown",
   "metadata": {},
   "source": [
    "# LEVEL 4"
   ]
  }
 ],
 "metadata": {
  "language_info": {
   "name": "python"
  }
 },
 "nbformat": 4,
 "nbformat_minor": 2
}
