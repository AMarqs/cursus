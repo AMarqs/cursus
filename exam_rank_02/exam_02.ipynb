{
 "cells": [
  {
   "cell_type": "markdown",
   "metadata": {},
   "source": [
    "# LEVEL 1"
   ]
  },
  {
   "cell_type": "markdown",
   "metadata": {},
   "source": [
    "## first_word"
   ]
  },
  {
   "cell_type": "markdown",
   "metadata": {},
   "source": [
    "Assignment name  : first_word \\\n",
    "Expected files   : first_word.c \\\n",
    "Allowed functions: write\n",
    "\n",
    "----------------------------------------------------------------------------------------\n",
    "\n",
    "Write a program that takes a string and displays its first word, followed by a newline. \\\n",
    "A word is a section of string delimited by spaces/tabs or by the start/end of the string.\n",
    "\n",
    "If the number of parameters is not 1, or if there are no words, simply display a newline.\n",
    "\n",
    "### Examples:"
   ]
  },
  {
   "cell_type": "code",
   "execution_count": null,
   "metadata": {
    "vscode": {
     "languageId": "c"
    }
   },
   "outputs": [],
   "source": [
    "$> ./first_word \"FOR PONY\" | cat -e\n",
    "FOR$\n",
    "\n",
    "$> ./first_word \"this        ...    is sparta, then again, maybe    not\" | cat -e\n",
    "this$\n",
    "\n",
    "$> ./first_word \"c\" | cat -e\n",
    "$\n",
    "\n",
    "$> ./first_word \"a\" \"b\" | cat -e\n",
    "$\n",
    "\n",
    "$> ./first_word \"  lorem,ipsum  \" | cat -e\n",
    "lorem,ipsum$"
   ]
  },
  {
   "cell_type": "code",
   "execution_count": null,
   "metadata": {
    "vscode": {
     "languageId": "c"
    }
   },
   "outputs": [],
   "source": [
    "#include <unistd.h>\n",
    "\n",
    "int main(int argc, char **argv)\n",
    "{\n",
    "\tint i = 0;\n",
    "\tif (argc == 2)\n",
    "\t{\n",
    "\t\twhile (argv[1][i] == 32 || argv[1][i] == 9)  // 32 = ' ' y 9 = \\t\n",
    "\t\t\ti++;\n",
    "\t\twhile (argv[1][i] != 32 && argv[1][i] != 9 && argv[1][i])\n",
    "\t\t{\n",
    "\t\t\twrite(1, &argv[1][i], 1);\n",
    "\t\t\ti++;\n",
    "\t\t}\n",
    "\t}\n",
    "\twrite(1, \"\\n\", 1);\n",
    "\treturn (0);\n",
    "}"
   ]
  },
  {
   "cell_type": "markdown",
   "metadata": {},
   "source": [
    "## fizzbuzz"
   ]
  },
  {
   "cell_type": "markdown",
   "metadata": {},
   "source": [
    "Assignment name  : fizzbuzz \\\n",
    "Expected files   : fizzbuzz.c \\\n",
    "Allowed functions: write\n",
    "\n",
    "--------------------------------------------------------------------------------\n",
    "\n",
    "Write a program that prints the numbers from 1 to 100, each separated by a newline.\n",
    "\n",
    "- If the number is a multiple of 3, it prints 'fizz' instead.\n",
    "- If the number is a multiple of 5, it prints 'buzz' instead.\n",
    "- If the number is both a multiple of 3 and a multiple of 5, it prints 'fizzbuzz' instead.\n",
    "\n",
    "\n",
    "### Example:"
   ]
  },
  {
   "cell_type": "code",
   "execution_count": null,
   "metadata": {
    "vscode": {
     "languageId": "shellscript"
    }
   },
   "outputs": [],
   "source": [
    "$>./fizzbuzz\n",
    "1\n",
    "2\n",
    "fizz\n",
    "4\n",
    "buzz\n",
    "fizz\n",
    "7\n",
    "8\n",
    "fizz\n",
    "buzz\n",
    "11\n",
    "fizz\n",
    "13\n",
    "14\n",
    "fizzbuzz\n",
    "[...]\n",
    "97\n",
    "98\n",
    "fizz\n",
    "buzz"
   ]
  },
  {
   "cell_type": "code",
   "execution_count": null,
   "metadata": {
    "vscode": {
     "languageId": "c"
    }
   },
   "outputs": [],
   "source": [
    "#include <unistd.h>\n",
    "\n",
    "int main(void)\n",
    "{\n",
    "\tint i = 1;\n",
    "\tint aux = 0;\n",
    "\twhile (i <= 100)\n",
    "\t{\n",
    "\t\tif (i % 3 == 0 && i % 5 == 0)\n",
    "\t\t\twrite(1, \"fizzbuzz\", 8);\n",
    "\t\telse if (i % 3 == 0)\n",
    "\t\t\t\twrite(1, \"fizz\", 4);\n",
    "\t\telse if (i % 5 == 0)\n",
    "\t\t\t\twrite(1, \"buzz\", 4);\n",
    "\t\telse if (i < 10)\n",
    "\t\t{\n",
    "\t\t\taux = i;\n",
    "\t\t\ti += 48;\n",
    "\t\t\twrite(1, &i, 1);\n",
    "\t\t\ti = aux;\n",
    "\t\t}\n",
    "\t\telse if (i >= 10 && i < 100)\n",
    "\t\t{\n",
    "\t\t\taux = i / 10 + 48;\n",
    "\t\t\twrite(1, &aux, 1);\n",
    "\t\t\taux =  i % 10 + 48;\n",
    "\t\t\twrite(1, &aux, 1);\n",
    "\t\t}\n",
    "\t\twrite(1, \"\\n\", 1);\n",
    "\t\ti++;\n",
    "\t}\n",
    "\treturn (0);\n",
    "}"
   ]
  },
  {
   "cell_type": "markdown",
   "metadata": {},
   "source": [
    "## ft_putstr"
   ]
  },
  {
   "cell_type": "markdown",
   "metadata": {},
   "source": [
    "Assignment name  : ft_putstr \\\n",
    "Expected files   : ft_putstr.c \\\n",
    "Allowed functions: write\n",
    "\n",
    "--------------------------------------------------------------------------------\n",
    "\n",
    "Write a function that displays a string on the standard output. \\\n",
    "The pointer passed to the function contains the address of the string's first character.\n",
    "\n",
    "Your function must be declared as follows:\n",
    "`void\tft_putstr(char *str);`"
   ]
  },
  {
   "cell_type": "code",
   "execution_count": null,
   "metadata": {
    "vscode": {
     "languageId": "c"
    }
   },
   "outputs": [],
   "source": [
    "\n",
    "#include <unistd.h>\n",
    "\n",
    "void\tft_putstr(char *str)\n",
    "{\n",
    "\tint i = 0;\n",
    "\twhile (str[i])\n",
    "\t\twrite(1, &str[i++], 1);\n",
    "}"
   ]
  },
  {
   "cell_type": "markdown",
   "metadata": {},
   "source": [
    "## ft_strcpy"
   ]
  },
  {
   "cell_type": "markdown",
   "metadata": {},
   "source": [
    "Assignment name  : ft_strcpy \\\n",
    "Expected files   : ft_strcpy.c \\\n",
    "Allowed functions: none\n",
    "\n",
    "--------------------------------------------------------------------------------\n",
    "\n",
    "Reproduce the behavior of the function strcpy (man strcpy).\n",
    "\n",
    "Your function must be declared as follows:\n",
    "`char    *ft_strcpy(char *s1, char *s2);`"
   ]
  },
  {
   "cell_type": "code",
   "execution_count": null,
   "metadata": {
    "vscode": {
     "languageId": "c"
    }
   },
   "outputs": [],
   "source": [
    "#include <unistd.h>\n",
    "\n",
    "char    *ft_strcpy(char *s1, char *s2)\n",
    "{\n",
    "\tint i = 0;\n",
    "\twhile (s2[i] != '\\0')\n",
    "\t{\n",
    "\t\ts1[i] = s2[i];\n",
    "\t\ti++;\n",
    "\t}\n",
    "\ts1[i] = '\\0';\n",
    "\treturn (s1);\n",
    "}"
   ]
  },
  {
   "cell_type": "markdown",
   "metadata": {},
   "source": [
    "## ft_strlen"
   ]
  },
  {
   "cell_type": "markdown",
   "metadata": {},
   "source": [
    "Assignment name  : ft_strlen \\\n",
    "Expected files   : ft_strlen.c \\\n",
    "Allowed functions: none\n",
    "\n",
    "--------------------------------------------------------------------------------\n",
    "\n",
    "Write a function that returns the length of a string.\n",
    "\n",
    "Your function must be declared as follows:\n",
    "`int\tft_strlen(char *str);`"
   ]
  },
  {
   "cell_type": "code",
   "execution_count": null,
   "metadata": {
    "vscode": {
     "languageId": "c"
    }
   },
   "outputs": [],
   "source": [
    "int\tft_strlen(char *str)\n",
    "{\n",
    "\tint i = 0;\n",
    "\twhile (str[i])\n",
    "\t\ti++;\n",
    "\treturn (i);\n",
    "}"
   ]
  },
  {
   "cell_type": "markdown",
   "metadata": {},
   "source": [
    "## ft_swap"
   ]
  },
  {
   "cell_type": "markdown",
   "metadata": {},
   "source": [
    "Assignment name  : ft_swap \\\n",
    "Expected files   : ft_swap.c \\\n",
    "Allowed functions: none\n",
    "\n",
    "--------------------------------------------------------------------------------\n",
    "\n",
    "Write a function that swaps the contents of two integers the adresses of which are passed as parameters.\n",
    "\n",
    "Your function must be declared as follows:\n",
    "`void\tft_swap(int *a, int *b);`"
   ]
  },
  {
   "cell_type": "code",
   "execution_count": null,
   "metadata": {
    "vscode": {
     "languageId": "c"
    }
   },
   "outputs": [],
   "source": [
    "void\tft_swap(int *a, int *b)\n",
    "{\n",
    "\tint aux = *a;\n",
    "\t*a = *b;\n",
    "\t*b = aux;\n",
    "}"
   ]
  },
  {
   "cell_type": "markdown",
   "metadata": {},
   "source": [
    "## repeat_alpha"
   ]
  },
  {
   "cell_type": "markdown",
   "metadata": {},
   "source": [
    "Assignment name  : repeat_alpha \\\n",
    "Expected files   : repeat_alpha.c \\\n",
    "Allowed functions: write\n",
    "\n",
    "--------------------------------------------------------------------------------\n",
    "\n",
    "Write a program called repeat_alpha that takes a string and display it repeating each alphabetical character as many times as its alphabetical index, followed by a newline.\n",
    "\n",
    "'a' becomes 'a', 'b' becomes 'bb', 'e' becomes 'eeeee', etc... \\\n",
    "Case remains unchanged.\n",
    "\n",
    "If the number of arguments is not 1, just display a newline.\n",
    "\n",
    "### Examples:"
   ]
  },
  {
   "cell_type": "code",
   "execution_count": null,
   "metadata": {
    "vscode": {
     "languageId": "shellscript"
    }
   },
   "outputs": [],
   "source": [
    "$>./repeat_alpha \"abc\"\n",
    "abbccc\n",
    "\n",
    "$>./repeat_alpha \"Alex.\" | cat -e\n",
    "Alllllllllllleeeeexxxxxxxxxxxxxxxxxxxxxxxx.$\n",
    "\n",
    "$>./repeat_alpha 'abacadaba 42!' | cat -e\n",
    "abbacccaddddabba 42!$\n",
    "\n",
    "$>./repeat_alpha | cat -e\n",
    "$\n",
    "\n",
    "$>./repeat_alpha \"\" | cat -e\n",
    "$"
   ]
  },
  {
   "cell_type": "code",
   "execution_count": null,
   "metadata": {
    "vscode": {
     "languageId": "c"
    }
   },
   "outputs": [],
   "source": [
    "#include <unistd.h>\n",
    "\n",
    "int main(int argc, char **argv)\n",
    "{\n",
    "\tchar *str = argv[1];\n",
    "\tint i = 0;\n",
    "\tint j = 0;\n",
    "\tif (argc == 2)\n",
    "\t{\n",
    "\t\twhile (str[i] != '\\0')\n",
    "\t\t{\n",
    "\t\t\tif (str[i] >= 65 && str[i] <= 90) // 65 = 'A' y 90 = 'Z'\n",
    "\t\t\t{\n",
    "\t\t\t\tj = str[i] - 64;\n",
    "\t\t\t\twhile (j > 0)\n",
    "\t\t\t\t{\n",
    "\t\t\t\t\twrite(1, &str[i], 1);\n",
    "\t\t\t\t\tj--;\n",
    "\t\t\t\t}\n",
    "\t\t\t}\n",
    "\t\t\telse if (str[i] >= 97 && str[i] <= 122) // 97 = 'a' y 122 = 'z'\n",
    "\t\t\t{\n",
    "\t\t\t\tj = str[i] - 96;\n",
    "\t\t\t\twhile (j > 0)\n",
    "\t\t\t\t{\n",
    "\t\t\t\t\twrite(1, &str[i], 1);\n",
    "\t\t\t\t\tj--;\n",
    "\t\t\t\t}\n",
    "\t\t\t}\n",
    "\t\t\ti++;\n",
    "\t\t}\n",
    "\t}\n",
    "\twrite(1, \"\\n\", 1);\n",
    "\treturn (0);\n",
    "}"
   ]
  },
  {
   "cell_type": "markdown",
   "metadata": {},
   "source": [
    "## rev_print"
   ]
  },
  {
   "cell_type": "markdown",
   "metadata": {},
   "source": [
    "Assignment name  : rev_print \\\n",
    "Expected files   : rev_print.c \\\n",
    "Allowed functions: write\n",
    "\n",
    "--------------------------------------------------------------------------------\n",
    "\n",
    "Write a function that takes a string, and displays the string in reverse followed by a newline. \\\n",
    "The original string must not be modified. \\\n",
    "You must return the string passed as a parameter.\n",
    "\n",
    "Your function must be declared as follows:\n",
    "`char *rev_print(char *str);`\n",
    "\n",
    "### Examples:"
   ]
  },
  {
   "cell_type": "code",
   "execution_count": null,
   "metadata": {
    "vscode": {
     "languageId": "c"
    }
   },
   "outputs": [],
   "source": [
    "int main(void)\n",
    "{\n",
    "  rev_print(\"Hello world\");\n",
    "  write (1, \"\\n\", 1);\n",
    "  rev_print(\"tnirp esreveR\");\n",
    "  write (1, \"\\n\", 1);\n",
    "  rev_print(\"\");\n",
    "  write (1, \"\\n\", 1);\n",
    "}"
   ]
  },
  {
   "cell_type": "markdown",
   "metadata": {},
   "source": [
    "Output:"
   ]
  },
  {
   "cell_type": "code",
   "execution_count": null,
   "metadata": {
    "vscode": {
     "languageId": "shellscript"
    }
   },
   "outputs": [],
   "source": [
    "$> ./a.out | cat -e\n",
    "dlrow olleH$\n",
    "$> ./a.out | cat -e\n",
    "Reverse print$\n",
    "$> ./a.out | cat -e\n",
    "$"
   ]
  },
  {
   "cell_type": "code",
   "execution_count": null,
   "metadata": {
    "vscode": {
     "languageId": "c"
    }
   },
   "outputs": [],
   "source": [
    "#include <unistd.h>\n",
    "\n",
    "char *rev_print(char *str)\n",
    "{\n",
    "\tint i = 0;\n",
    "\twhile (str[i])\n",
    "\t\ti++;\n",
    "\twhile (--i >= 0)\n",
    "\t\twrite(1, &str[i], 1);\n",
    "\twrite(1, \"\\n\", 1);\n",
    "\treturn (str);\n",
    "}"
   ]
  },
  {
   "cell_type": "markdown",
   "metadata": {},
   "source": [
    "## rot_13"
   ]
  },
  {
   "cell_type": "markdown",
   "metadata": {},
   "source": [
    "Assignment name  : rot_13 \\\n",
    "Expected files   : rot_13.c \\\n",
    "Allowed functions: write\n",
    "\n",
    "--------------------------------------------------------------------------------\n",
    "\n",
    "Write a program that takes a string and displays it, replacing each of its letters by the letter 13 spaces ahead in alphabetical order. \\\n",
    "'z' becomes 'm' and 'Z' becomes 'M'. Case remains unaffected. \\\n",
    "The output will be followed by a newline.\n",
    "\n",
    "If the number of arguments is not 1, the program displays a newline.\n",
    "\n",
    "### Example:"
   ]
  },
  {
   "cell_type": "code",
   "execution_count": null,
   "metadata": {
    "vscode": {
     "languageId": "shellscript"
    }
   },
   "outputs": [],
   "source": [
    "$>./rot_13 \"abc\"\n",
    "nop\n",
    "\n",
    "$>./rot_13 \"My horse is Amazing.\" | cat -e\n",
    "Zl ubefr vf Nznmvat.$\n",
    "\n",
    "$>./rot_13 \"AkjhZ zLKIJz , 23y \" | cat -e\n",
    "NxwuM mYXVWm , 23l $\n",
    "\n",
    "$>./rot_13 | cat -e\n",
    "$\n",
    "\n",
    "$>./rot_13 \"\" | cat -e\n",
    "$"
   ]
  },
  {
   "cell_type": "code",
   "execution_count": null,
   "metadata": {
    "vscode": {
     "languageId": "c"
    }
   },
   "outputs": [],
   "source": [
    "#include <unistd.h>\n",
    "\n",
    "int main(int argc, char **argv)\n",
    "{\n",
    "\tint i = 0;\n",
    "\tif (argc == 2)\n",
    "\t{\n",
    "\t\twhile (argv[1][i])\n",
    "\t\t{\n",
    "\t\t\tif ((argv[1][i] >= 'A' && argv[1][i] <= 'M') || (argv[1][i] >= 'a' && argv[1][i] <= 'm'))\n",
    "\t\t\t\targv[1][i] = argv[1][i] + 13;\n",
    "\t\t\telse if ((argv[1][i] >= 'N' && argv[1][i] <= 'Z') || (argv[1][i] >= 'n' && argv[1][i] <= 'z'))\n",
    "\t\t\t\targv[1][i] = argv[1][i] - 13;\n",
    "\t\t\twrite(1, &argv[1][i], 1);\n",
    "\t\t\ti++;\n",
    "\t\t}\n",
    "\t}\n",
    "\twrite(1, \"\\n\", 1);\n",
    "\treturn (0);\n",
    "}"
   ]
  },
  {
   "cell_type": "markdown",
   "metadata": {},
   "source": [
    "## rotone"
   ]
  },
  {
   "cell_type": "markdown",
   "metadata": {},
   "source": [
    "Assignment name  : rotone \\\n",
    "Expected files   : rotone.c \\\n",
    "Allowed functions: write\n",
    "\n",
    "--------------------------------------------------------------------------------\n",
    "\n",
    "Write a program that takes a string and displays it, replacing each of its letters by the next one in alphabetical order.\n",
    "'z' becomes 'a' and 'Z' becomes 'A'. Case remains unaffected. \\\n",
    "The output will be followed by a \\n.\n",
    "\n",
    "If the number of arguments is not 1, the program displays \\n.\n",
    "\n",
    "### Example:"
   ]
  },
  {
   "cell_type": "code",
   "execution_count": null,
   "metadata": {
    "vscode": {
     "languageId": "shellscript"
    }
   },
   "outputs": [],
   "source": [
    "$>./rotone \"abc\"\n",
    "bcd\n",
    "\n",
    "$>./rotone \"Les stagiaires du staff ne sentent pas toujours tres bon.\" | cat -e\n",
    "Mft tubhjbjsft ev tubgg of tfoufou qbt upvkpvst usft cpo.$\n",
    "\n",
    "$>./rotone \"AkjhZ zLKIJz , 23y \" | cat -e\n",
    "BlkiA aMLJKa , 23z $\n",
    "\n",
    "$>./rotone | cat -e\n",
    "$\n",
    "\n",
    "$>./rotone \"\" | cat -e\n",
    "$"
   ]
  },
  {
   "cell_type": "code",
   "execution_count": null,
   "metadata": {
    "vscode": {
     "languageId": "c"
    }
   },
   "outputs": [],
   "source": [
    "int main(int argc, char **argv)\n",
    "{\n",
    "\tint i = 0;\n",
    "\tif (argc == 2)\n",
    "\t{\n",
    "\t\twhile (argv[1][i])\n",
    "\t\t{\n",
    "\t\t\tif ((argv[1][i] >= 'A' && argv[1][i] <= 'Y') || (argv[1][i] >= 'a' && argv[1][i] <= 'y'))\n",
    "\t\t\t\targv[1][i] = argv[1][i] + 1;\n",
    "\t\t\telse if (argv[1][i] == 'Z' || argv[1][i] == 'z')\n",
    "\t\t\t\targv[1][i] = argv[1][i] - 26;\n",
    "\t\t\twrite(1, &argv[1][i], 1);\n",
    "\t\t\ti++;\n",
    "\t\t}\n",
    "\t}\n",
    "\twrite(1, \"\\n\", 1);\n",
    "\treturn (0);\n",
    "}"
   ]
  },
  {
   "cell_type": "markdown",
   "metadata": {},
   "source": [
    "## search_and_replace"
   ]
  },
  {
   "cell_type": "markdown",
   "metadata": {},
   "source": [
    "Assignment name  : search_and_replace \\\n",
    "Expected files   : search_and_replace.c \\\n",
    "Allowed functions: write, exit\n",
    "\n",
    "--------------------------------------------------------------------------------\n",
    "\n",
    "Write a program called search_and_replace that takes 3 arguments, the first arguments is a string in which to replace a letter (2nd argument) by another one (3rd argument).\n",
    "\n",
    "If the number of arguments is not 3, just display a newline. \\\n",
    "If the second argument is not contained in the first one (the string) then the program simply rewrites the string followed by a newline.\n",
    "\n",
    "### Examples:"
   ]
  },
  {
   "cell_type": "code",
   "execution_count": null,
   "metadata": {
    "vscode": {
     "languageId": "shellscript"
    }
   },
   "outputs": [],
   "source": [
    "$>./search_and_replace \"Papache est un sabre\" \"a\" \"o\"\n",
    "Popoche est un sobre\n",
    "\n",
    "$>./search_and_replace \"zaz\" \"art\" \"zul\" | cat -e\n",
    "$\n",
    "\n",
    "$>./search_and_replace \"zaz\" \"r\" \"u\" | cat -e\n",
    "zaz$\n",
    "\n",
    "$>./search_and_replace \"jacob\" \"a\" \"b\" \"c\" \"e\" | cat -e\n",
    "$\n",
    "\n",
    "$>./search_and_replace \"ZoZ eT Dovid oiME le METol.\" \"o\" \"a\" | cat -e\n",
    "ZaZ eT David aiME le METal.$\n",
    "\n",
    "$>./search_and_replace \"wNcOre Un ExEmPle Pas Facilw a Ecrirw \" \"w\" \"e\" | cat -e\n",
    "eNcOre Un ExEmPle Pas Facile a Ecrire $"
   ]
  },
  {
   "cell_type": "code",
   "execution_count": null,
   "metadata": {
    "vscode": {
     "languageId": "c"
    }
   },
   "outputs": [],
   "source": [
    "#include <unistd.h>\n",
    "\n",
    "int main(int argc, char **argv)\n",
    "{\n",
    "\tint i = 0;\n",
    "\tif (argc == 4 && argv[2][1] == 0 && argv[3][1] == 0)\n",
    "\t{\n",
    "\t\twhile (argv[1][i])\n",
    "\t\t{\n",
    "\t\t\tif (argv[1][i] == argv[2][0])\n",
    "\t\t\t\targv[1][i] = argv[3][0];\n",
    "\t\t\twrite(1, &argv[1][i], 1);\n",
    "\t\t\ti++;\n",
    "\t\t}\n",
    "\t}\n",
    "\twrite(1, \"\\n\", 1);\n",
    "\treturn (0);\n",
    "}"
   ]
  },
  {
   "cell_type": "markdown",
   "metadata": {},
   "source": [
    "## ulstr"
   ]
  },
  {
   "cell_type": "markdown",
   "metadata": {},
   "source": [
    "Assignment name  : ulstr \\\n",
    "Expected files   : ulstr.c \\\n",
    "Allowed functions: write\n",
    "\n",
    "--------------------------------------------------------------------------------\n",
    "\n",
    "Write a program that takes a string and reverses the case of all its letters. \\\n",
    "Other characters remain unchanged. \\\n",
    "You must display the result followed by a '\\n'.\n",
    "\n",
    "If the number of arguments is not 1, the program displays '\\n'.\n",
    "\n",
    "### Examples:"
   ]
  },
  {
   "cell_type": "code",
   "execution_count": null,
   "metadata": {
    "vscode": {
     "languageId": "shellscript"
    }
   },
   "outputs": [],
   "source": [
    "$>./ulstr \"L'eSPrit nE peUt plUs pRogResSer s'Il staGne et sI peRsIsTent VAnIte et auto-justification.\" | cat -e\n",
    "l'EspRIT Ne PEuT PLuS PrOGrESsER S'iL STAgNE ET Si PErSiStENT vaNiTE ET AUTO-JUSTIFICATION.$\n",
    "\n",
    "$>./ulstr \"S'enTOuRer dE sECreT eSt uN sIGnE De mAnQuE De coNNaiSSanCe.  \" | cat -e\n",
    "s'ENtoUrER De SecREt EsT Un SigNe dE MaNqUe dE COnnAIssANcE.  $\n",
    "\n",
    "$>./ulstr \"3:21 Ba  tOut  moUn ki Ka di KE m'en Ka fe fot\" | cat -e\n",
    "3:21 bA  ToUT  MOuN KI kA DI ke M'EN kA FE FOT$\n",
    "\n",
    "$>./ulstr | cat -e\n",
    "$"
   ]
  },
  {
   "cell_type": "code",
   "execution_count": null,
   "metadata": {
    "vscode": {
     "languageId": "c"
    }
   },
   "outputs": [],
   "source": [
    "#include <unistd.h>\n",
    "\n",
    "int main(int argc, char **argv)\n",
    "{\n",
    "\tint i = 0;\n",
    "\tif (argc == 2)\n",
    "\t{\n",
    "\t\twhile (argv[1][i])\n",
    "\t\t{\n",
    "\t\t\tif (argv[1][i] >= 'A' && argv[1][i] <= 'Z')\n",
    "\t\t\t\targv[1][i] = argv[1][i] + 32;\n",
    "\t\t\telse if (argv[1][i] >= 'a' && argv[1][i] <= 'z')\n",
    "\t\t\t\targv[1][i] = argv[1][i] - 32;\n",
    "\t\t\twrite(1, &argv[1][i], 1);\n",
    "\t\t\ti++;\n",
    "\t\t}\n",
    "\t}\n",
    "\twrite(1, \"\\n\", 1);\n",
    "\treturn (0);\n",
    "}"
   ]
  },
  {
   "cell_type": "markdown",
   "metadata": {},
   "source": [
    "# LEVEL 2"
   ]
  },
  {
   "cell_type": "markdown",
   "metadata": {},
   "source": [
    "## alpha_mirror"
   ]
  },
  {
   "cell_type": "markdown",
   "metadata": {},
   "source": [
    "Assignment name  : alpha_mirror \\\n",
    "Expected files   : alpha_mirror.c \\\n",
    "Allowed functions: write\n",
    "\n",
    "--------------------------------------------------------------------------------\n",
    " \n",
    "Write a program called alpha_mirror that takes a string and displays this string after replacing each alphabetical character by the opposite alphabetical character, followed by a newline.\n",
    "\n",
    "'a' becomes 'z', 'Z' becomes 'A' \\\n",
    "'d' becomes 'w', 'M' becomes 'N' \\\n",
    "and so on. \\\n",
    "Case is not changed. \n",
    " \n",
    "If the number of arguments is not 1, display only a newline.\n",
    " \n",
    "### Examples:"
   ]
  },
  {
   "cell_type": "code",
   "execution_count": null,
   "metadata": {
    "vscode": {
     "languageId": "shellscript"
    }
   },
   "outputs": [],
   "source": [
    "$>./alpha_mirror \"abc\"\n",
    "zyx\n",
    "\n",
    "$>./alpha_mirror \"My horse is Amazing.\" | cat -e\n",
    "Nb slihv rh Znzarmt.$\n",
    "\n",
    "$>./alpha_mirror | cat -e\n",
    "$"
   ]
  },
  {
   "cell_type": "code",
   "execution_count": null,
   "metadata": {
    "vscode": {
     "languageId": "c"
    }
   },
   "outputs": [],
   "source": [
    "#include <unistd.h>\n",
    "\n",
    "int main(int argc, char **argv)\n",
    "{\n",
    "\tint i = 0;\n",
    "\tif (argc == 2)\n",
    "\t{\n",
    "\t\twhile (argv[1][i])\n",
    "\t\t{\n",
    "\t\t\tif (argv[1][i] >= 'A' && argv[1][i] <= 'Z')\n",
    "\t\t\t\targv[1][i] = 'Z' - (argv[1][i] - 'A');\n",
    "\t\t\telse if (argv[1][i] >= 'a' && argv[1][i] <= 'z')\n",
    "\t\t\t\targv[1][i] = 'z' - (argv[1][i] - 'a');\n",
    "\t\t\twrite(1, &argv[1][i], 1);\n",
    "\t\t\ti++;\n",
    "\t\t}\n",
    "\t}\n",
    "\twrite(1, \"\\n\", 1);\n",
    "\treturn (0);\n",
    "}"
   ]
  },
  {
   "cell_type": "markdown",
   "metadata": {},
   "source": [
    "## camel_to_snake"
   ]
  },
  {
   "cell_type": "markdown",
   "metadata": {},
   "source": [
    "Assignment name  : camel_to_snake \\\n",
    "Expected files   : camel_to_snake.c \\\n",
    "Allowed functions: malloc, free, realloc, write\n",
    "\n",
    "--------------------------------------------------------------------------------\n",
    "\n",
    "Write a program that takes a single string in lowerCamelCase format and converts it into a string in snake_case format. \\\n",
    "A lowerCamelCase string is a string where each word begins with a capital letter except for the first one. \\\n",
    "A snake_case string is a string where each word is in lower case, separated by an underscore \"_\".\n",
    "\n",
    "### Examples:"
   ]
  },
  {
   "cell_type": "code",
   "execution_count": null,
   "metadata": {
    "vscode": {
     "languageId": "shellscript"
    }
   },
   "outputs": [],
   "source": [
    "$>./camel_to_snake \"hereIsACamelCaseWord\"\n",
    "here_is_a_camel_case_word\n",
    "\n",
    "$>./camel_to_snake \"helloWorld\" | cat -e\n",
    "hello_world$\n",
    "\n",
    "$>./camel_to_snake | cat -e\n",
    "$"
   ]
  },
  {
   "cell_type": "code",
   "execution_count": null,
   "metadata": {
    "vscode": {
     "languageId": "c"
    }
   },
   "outputs": [],
   "source": [
    "#include <unistd.h>\n",
    "\n",
    "int main(int argc, char **argv)\n",
    "{\n",
    "\tint i = 0;\n",
    "\tif (argc == 2)\n",
    "\t{\n",
    "\t\twhile (argv[1][i])\n",
    "\t\t{\n",
    "\t\t\tif(argv[1][i] >= 'a' && argv[1][i] <= 'z')\n",
    "\t\t\t\twrite(1, &argv[1][i], 1);\n",
    "\t\t\tif(argv[1][i] >= 'A' && argv[1][i] <= 'Z')\n",
    "\t\t\t{\n",
    "\t\t\t\targv[1][i] = argv[1][i] + 32;\n",
    "\t\t\t\twrite(1, \"_\", 1);\n",
    "\t\t\t\twrite(1, &argv[1][i], 1);\n",
    "\t\t\t}\n",
    "\t\t\ti++;\n",
    "\t\t}\n",
    "\t}\n",
    "\twrite(1, \"\\n\", 1);\n",
    "\treturn (0);\n",
    "}"
   ]
  },
  {
   "cell_type": "markdown",
   "metadata": {},
   "source": [
    "## do_op"
   ]
  },
  {
   "cell_type": "markdown",
   "metadata": {},
   "source": [
    "Assignment name  : do_op \\\n",
    "Expected files   : *.c, *.h \\\n",
    "Allowed functions: atoi, printf, write\n",
    "\n",
    "--------------------------------------------------------------------------------\n",
    "\n",
    "Write a program that takes three strings:\n",
    "- The first and the third one are representations of base-10 signed integers that fit in an int.\n",
    "- The second one is an arithmetic operator chosen from: + - * / %\n",
    "\n",
    "The program must display the result of the requested arithmetic operation, followed by a newline. If the number of parameters is not 3, the program just displays a newline.\n",
    "\n",
    "You can assume the string have no mistakes or extraneous characters. Negative numbers, in input or output, will have one and only one leading '-'. The result of the operation fits in an int.\n",
    "\n",
    "### Examples:"
   ]
  },
  {
   "cell_type": "code",
   "execution_count": null,
   "metadata": {
    "vscode": {
     "languageId": "shellscript"
    }
   },
   "outputs": [],
   "source": [
    "$> ./do_op \"123\" \"*\" 456 | cat -e\n",
    "56088$\n",
    "\n",
    "$> ./do_op \"9828\" \"/\" 234 | cat -e\n",
    "42$\n",
    "\n",
    "$> ./do_op \"1\" \"+\" \"-43\" | cat -e\n",
    "-42$\n",
    "\n",
    "$> ./do_op | cat -e\n",
    "$"
   ]
  },
  {
   "cell_type": "code",
   "execution_count": null,
   "metadata": {
    "vscode": {
     "languageId": "c"
    }
   },
   "outputs": [],
   "source": [
    "#include <stdlib.h>\t// Libreria para atoi\n",
    "#include <stdio.h>\t// Libreria para printf\n",
    "\n",
    "int main(int argc, char **argv)\n",
    "{\n",
    "\tint i = 0;\n",
    "\tif(argc == 4)\n",
    "\t{\n",
    "\t\tif (argv[2][0] == '+')\n",
    "\t\t\ti = atoi(argv[1]) + atoi(argv[3]);\n",
    "\t\telse if (argv[2][0] == '-')\n",
    "\t\t\ti = atoi(argv[1]) - atoi(argv[3]);\n",
    "\t\telse if (argv[2][0] == '*')\n",
    "\t\t\ti = atoi(argv[1]) * atoi(argv[3]);\n",
    "\t\telse if (argv[2][0] == '/')\n",
    "\t\t\ti = atoi(argv[1]) / atoi(argv[3]);\n",
    "\t\telse if (argv[2][0] == '%')\n",
    "\t\t\ti = atoi(argv[1]) % atoi(argv[3]);\n",
    "\t\tprintf(\"%d\", i);\n",
    "\t}\n",
    "\tprintf(\"\\n\");\n",
    "\treturn (0);\n",
    "}"
   ]
  },
  {
   "cell_type": "markdown",
   "metadata": {},
   "source": [
    "## ft_atoi"
   ]
  },
  {
   "cell_type": "markdown",
   "metadata": {},
   "source": [
    "Assignment name  : ft_atoi \\\n",
    "Expected files   : ft_atoi.c \\\n",
    "Allowed functions: None\n",
    "\n",
    "--------------------------------------------------------------------------------\n",
    "\n",
    "Write a function that converts the string argument str to an integer (type int) and returns it. \\\n",
    "It works much like the standard atoi(const char *str) function, see the man.\n",
    "\n",
    "Your function must be declared as follows:\n",
    "`int\tft_atoi(const char *str);`"
   ]
  },
  {
   "cell_type": "code",
   "execution_count": null,
   "metadata": {
    "vscode": {
     "languageId": "c"
    }
   },
   "outputs": [],
   "source": [
    "int\tft_atoi(const char *str)\n",
    "{\n",
    "\tint\ti;\n",
    "\tint\tsign;\n",
    "\tint\tnum;\n",
    "\n",
    "\ti = 0;\n",
    "\tsign = 1;\n",
    "\tnum = 0;\n",
    "\twhile (str[i] == 32 || (str[i] >= 9 && str[i] <= 13))\n",
    "\t\ti++;\n",
    "\tif (str[i] == '-' || str[i] == '+')\n",
    "\t{\n",
    "\t\tif (str[i] == '-')\n",
    "\t\t\tsign = -1;\n",
    "\t\ti++;\n",
    "\t}\n",
    "\twhile (str[i] >= '0' && str[i] <= '9')\n",
    "\t{\n",
    "\t\tnum = num * 10 + str[i] - 48;\n",
    "\t\ti++;\n",
    "\t}\n",
    "\tnum = num * sign;\n",
    "\treturn (num);\n",
    "}"
   ]
  },
  {
   "cell_type": "markdown",
   "metadata": {},
   "source": [
    "## ft_strcmp"
   ]
  },
  {
   "cell_type": "markdown",
   "metadata": {},
   "source": [
    "Assignment name  : ft_strcmp \\\n",
    "Expected files   : ft_strcmp.c \\\n",
    "Allowed functions: none\n",
    "\n",
    "--------------------------------------------------------------------------------\n",
    "\n",
    "Reproduce the behavior of the function strcmp (man strcmp).\n",
    "\n",
    "Your function must be declared as follows:\n",
    "`int    ft_strcmp(char *s1, char *s2);`"
   ]
  },
  {
   "cell_type": "code",
   "execution_count": null,
   "metadata": {
    "vscode": {
     "languageId": "c"
    }
   },
   "outputs": [],
   "source": [
    "int\tft_strcmp(char *s1, char *s2)\n",
    "{\n",
    "\tint\ti = 0;\n",
    "\twhile (s1[i] || s2[i])\n",
    "\t{\n",
    "\t\tif (s1[i] != s2[i])\n",
    "\t\t\treturn (s1[i] - s2[i]);\n",
    "\t\ti++;\n",
    "\t}\n",
    "\treturn (0);\n",
    "}"
   ]
  },
  {
   "cell_type": "markdown",
   "metadata": {},
   "source": [
    "## ft_strcspn"
   ]
  },
  {
   "cell_type": "markdown",
   "metadata": {},
   "source": [
    "Assignment name\t: ft_strcspn \\\n",
    "Expected files\t: ft_strcspn.c \\\n",
    "Allowed functions: None\n",
    "\n",
    "---------------------------------------------------------------\n",
    "\n",
    "Reproduce exactly the behavior of the function strcspn (man strcspn).\n",
    "\n",
    "The function should be prototyped as follows:\n",
    "`size_t\tft_strcspn(const char *s, const char *reject);`"
   ]
  },
  {
   "cell_type": "code",
   "execution_count": null,
   "metadata": {
    "vscode": {
     "languageId": "c"
    }
   },
   "outputs": [],
   "source": [
    "#include <aio.h>\n",
    "\n",
    "size_t\tft_strcspn(const char *s, const char *reject)\n",
    "{\n",
    "\tint i = 0;\n",
    "\tint j = 0;\n",
    "\twhile (s[i])\n",
    "\t{\n",
    "\t\tj = 0;\n",
    "\t\twhile (reject[j])\n",
    "\t\t{\n",
    "\t\t\tif (s[i] == reject[j])\n",
    "\t\t\t\treturn (i);\n",
    "\t\t\t\tj++;\n",
    "\t\t}\n",
    "\t\ti++;\n",
    "\t}\n",
    "\treturn (i);\n",
    "}"
   ]
  },
  {
   "cell_type": "markdown",
   "metadata": {},
   "source": [
    "## ft_strdup"
   ]
  },
  {
   "cell_type": "markdown",
   "metadata": {},
   "source": [
    "Assignment name  : ft_strdup \\\n",
    "Expected files   : ft_strdup.c \\\n",
    "Allowed functions: malloc\n",
    "\n",
    "--------------------------------------------------------------------------------\n",
    "\n",
    "Reproduce the behavior of the function strdup (man strdup).\n",
    "\n",
    "Your function must be declared as follows:\n",
    "`char    *ft_strdup(char *src);`"
   ]
  },
  {
   "cell_type": "code",
   "execution_count": null,
   "metadata": {
    "vscode": {
     "languageId": "c"
    }
   },
   "outputs": [],
   "source": [
    "#include <stdlib.h>\n",
    "\n",
    "char *ft_strdup(char *src)\n",
    "{\n",
    "\tchar *dst;\n",
    "\tint\ti = 0;\n",
    "\twhile (src[i])\n",
    "\t\ti++;\n",
    "\tdst = (char *)malloc((i + 1) * sizeof(char));\n",
    "\tif (dst == NULL)\n",
    "\t\treturn (NULL);\n",
    "\ti = 0;\n",
    "\twhile (src[i])\n",
    "\t{\n",
    "\t\tdst[i] = src[i];\n",
    "\t\ti++;\n",
    "\t}\n",
    "\tdst[i] = '\\0';\n",
    "\treturn (dst);\n",
    "}"
   ]
  },
  {
   "cell_type": "markdown",
   "metadata": {},
   "source": [
    "## FALLA ??????????????"
   ]
  },
  {
   "cell_type": "markdown",
   "metadata": {},
   "source": [
    "## ft_strpbrk"
   ]
  },
  {
   "cell_type": "markdown",
   "metadata": {},
   "source": [
    "Assignment name\t: ft_strpbrk \\\n",
    "Expected files\t: ft_strpbrk.c \\\n",
    "Allowed functions: None\n",
    "\n",
    "---------------------------------------------------------------\n",
    "\n",
    "Reproduce exactly the behavior of the function strpbrk (man strpbrk).\n",
    "\n",
    "The function should be prototyped as follows:\n",
    "`char\t*ft_strpbrk(const char *s1, const char *s2);`"
   ]
  },
  {
   "cell_type": "code",
   "execution_count": null,
   "metadata": {
    "vscode": {
     "languageId": "c"
    }
   },
   "outputs": [],
   "source": []
  }
 ],
 "metadata": {
  "language_info": {
   "name": "python"
  }
 },
 "nbformat": 4,
 "nbformat_minor": 2
}
