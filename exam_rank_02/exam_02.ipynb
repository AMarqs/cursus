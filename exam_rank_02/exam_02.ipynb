{
 "cells": [
  {
   "cell_type": "markdown",
   "metadata": {},
   "source": [
    "# LEVEL 1"
   ]
  },
  {
   "cell_type": "markdown",
   "metadata": {},
   "source": [
    "## first_word"
   ]
  },
  {
   "cell_type": "markdown",
   "metadata": {},
   "source": [
    "Assignment name  : first_word\n",
    "\n",
    "Expected files   : first_word.c\n",
    "\n",
    "Allowed functions: write\n",
    "\n",
    "----------------------------------------------------------------------------------------\n",
    "\n",
    "Write a program that takes a string and displays its first word, followed by a newline. \\\n",
    "A word is a section of string delimited by spaces/tabs or by the start/end of the string.\n",
    "\n",
    "If the number of parameters is not 1, or if there are no words, simply display a newline.\n",
    "\n",
    "### Examples:"
   ]
  },
  {
   "cell_type": "code",
   "execution_count": null,
   "metadata": {
    "vscode": {
     "languageId": "c"
    }
   },
   "outputs": [],
   "source": [
    "$> ./first_word \"FOR PONY\" | cat -e\n",
    "FOR$\n",
    "\n",
    "$> ./first_word \"this        ...    is sparta, then again, maybe    not\" | cat -e\n",
    "this$\n",
    "\n",
    "$> ./first_word \"c\" | cat -e\n",
    "$\n",
    "\n",
    "$> ./first_word \"a\" \"b\" | cat -e\n",
    "$\n",
    "\n",
    "$> ./first_word \"  lorem,ipsum  \" | cat -e\n",
    "lorem,ipsum$"
   ]
  },
  {
   "cell_type": "code",
   "execution_count": null,
   "metadata": {
    "vscode": {
     "languageId": "c"
    }
   },
   "outputs": [],
   "source": [
    "#include <unistd.h>\n",
    "\n",
    "int main(int argc, char **argv)\n",
    "{\n",
    "\tint i = 0;\n",
    "\tif (argc == 2)\n",
    "\t{\n",
    "\t\twhile (argv[1][i] == 32 || argv[1][i] == 9)\n",
    "\t\t\ti++;\n",
    "\t\twhile (argv[1][i] != 32 && argv[1][i] != 9 && argv[1][i])\n",
    "\t\t{\n",
    "\t\t\twrite(1, &argv[1][i], 1);\n",
    "\t\t\ti++;\n",
    "\t\t}\n",
    "\t}\n",
    "\twrite(1, \"\\n\", 1);\n",
    "\treturn (0);\n",
    "}"
   ]
  },
  {
   "cell_type": "markdown",
   "metadata": {},
   "source": [
    "## fizzbuzz"
   ]
  },
  {
   "cell_type": "markdown",
   "metadata": {},
   "source": [
    "Assignment name  : fizzbuzz\n",
    "\n",
    "Expected files   : fizzbuzz.c\n",
    "\n",
    "Allowed functions: write\n",
    "\n",
    "--------------------------------------------------------------------------------\n",
    "\n",
    "Write a program that prints the numbers from 1 to 100, each separated by a newline.\n",
    "\n",
    "- If the number is a multiple of 3, it prints 'fizz' instead.\n",
    "- If the number is a multiple of 5, it prints 'buzz' instead.\n",
    "- If the number is both a multiple of 3 and a multiple of 5, it prints 'fizzbuzz' instead.\n",
    "\n",
    "\n",
    "### Example:"
   ]
  },
  {
   "cell_type": "code",
   "execution_count": null,
   "metadata": {
    "vscode": {
     "languageId": "shellscript"
    }
   },
   "outputs": [],
   "source": [
    "$>./fizzbuzz\n",
    "1\n",
    "2\n",
    "fizz\n",
    "4\n",
    "buzz\n",
    "fizz\n",
    "7\n",
    "8\n",
    "fizz\n",
    "buzz\n",
    "11\n",
    "fizz\n",
    "13\n",
    "14\n",
    "fizzbuzz\n",
    "[...]\n",
    "97\n",
    "98\n",
    "fizz\n",
    "buzz"
   ]
  },
  {
   "cell_type": "code",
   "execution_count": null,
   "metadata": {
    "vscode": {
     "languageId": "c"
    }
   },
   "outputs": [],
   "source": []
  },
  {
   "cell_type": "markdown",
   "metadata": {},
   "source": [
    "## ft_putstr"
   ]
  },
  {
   "cell_type": "markdown",
   "metadata": {},
   "source": [
    "Assignment name  : ft_putstr\n",
    "\n",
    "Expected files   : ft_putstr.c\n",
    "\n",
    "Allowed functions: write\n",
    "\n",
    "--------------------------------------------------------------------------------\n",
    "\n",
    "Write a function that displays a string on the standard output. \\\n",
    "The pointer passed to the function contains the address of the string's first character.\n",
    "\n",
    "Your function must be declared as follows:\n",
    "`void\tft_putstr(char *str);`"
   ]
  },
  {
   "cell_type": "code",
   "execution_count": null,
   "metadata": {
    "vscode": {
     "languageId": "c"
    }
   },
   "outputs": [],
   "source": [
    "\n",
    "#include <unistd.h>\n",
    "\n",
    "void\tft_putstr(char *str)\n",
    "{\n",
    "\tint i = 0;\n",
    "\twhile (str[i])\n",
    "\t\twrite(1, &str[i++], 1);\n",
    "}"
   ]
  },
  {
   "cell_type": "markdown",
   "metadata": {},
   "source": [
    "## ft_strcpy"
   ]
  },
  {
   "cell_type": "markdown",
   "metadata": {},
   "source": [
    "Assignment name  : ft_strcpy\n",
    "\n",
    "Expected files   : ft_strcpy.c\n",
    "\n",
    "Allowed functions:\n",
    "\n",
    "--------------------------------------------------------------------------------\n",
    "\n",
    "Reproduce the behavior of the function strcpy (man strcpy).\n",
    "\n",
    "Your function must be declared as follows:\n",
    "`char    *ft_strcpy(char *s1, char *s2);`"
   ]
  },
  {
   "cell_type": "code",
   "execution_count": null,
   "metadata": {
    "vscode": {
     "languageId": "c"
    }
   },
   "outputs": [],
   "source": [
    "#include <unistd.h>\n",
    "\n",
    "char    *ft_strcpy(char *s1, char *s2)\n",
    "{\n",
    "\tint i = 0;\n",
    "\twhile (s2[i] != '\\0')\n",
    "\t{\n",
    "\t\ts1[i] = s2[i];\n",
    "\t\ti++;\n",
    "\t}\n",
    "\ts1[i] = '\\0';\n",
    "\treturn (s1);\n",
    "}"
   ]
  },
  {
   "cell_type": "markdown",
   "metadata": {},
   "source": [
    "## ft_strlen"
   ]
  },
  {
   "cell_type": "markdown",
   "metadata": {},
   "source": [
    "Assignment name  : ft_strlen\n",
    "\n",
    "Expected files   : ft_strlen.c\n",
    "\n",
    "Allowed functions:\n",
    "\n",
    "--------------------------------------------------------------------------------\n",
    "\n",
    "Write a function that returns the length of a string.\n",
    "\n",
    "Your function must be declared as follows:\n",
    "`int\tft_strlen(char *str);`"
   ]
  },
  {
   "cell_type": "code",
   "execution_count": null,
   "metadata": {
    "vscode": {
     "languageId": "c"
    }
   },
   "outputs": [],
   "source": [
    "int\tft_strlen(char *str)\n",
    "{\n",
    "\tint i = 0;\n",
    "\twhile (str[i])\n",
    "\t\ti++;\n",
    "\treturn (i);\n",
    "}"
   ]
  },
  {
   "cell_type": "markdown",
   "metadata": {},
   "source": [
    "## ft_swap"
   ]
  },
  {
   "cell_type": "markdown",
   "metadata": {},
   "source": [
    "Assignment name  : ft_swap\n",
    "\n",
    "Expected files   : ft_swap.c\n",
    "\n",
    "Allowed functions:\n",
    "\n",
    "--------------------------------------------------------------------------------\n",
    "\n",
    "Write a function that swaps the contents of two integers the adresses of which are passed as parameters.\n",
    "\n",
    "Your function must be declared as follows:\n",
    "`void\tft_swap(int *a, int *b);`"
   ]
  },
  {
   "cell_type": "code",
   "execution_count": null,
   "metadata": {
    "vscode": {
     "languageId": "c"
    }
   },
   "outputs": [],
   "source": [
    "void\tft_swap(int *a, int *b)\n",
    "{\n",
    "\tint aux = *a;\n",
    "\t*a = *b;\n",
    "\t*b = aux;\n",
    "}"
   ]
  },
  {
   "cell_type": "markdown",
   "metadata": {},
   "source": [
    "## repeat_alpha"
   ]
  },
  {
   "cell_type": "markdown",
   "metadata": {},
   "source": [
    "Assignment name  : repeat_alpha\n",
    "\n",
    "Expected files   : repeat_alpha.c\n",
    "\n",
    "Allowed functions: write\n",
    "\n",
    "--------------------------------------------------------------------------------\n",
    "\n",
    "Write a program called repeat_alpha that takes a string and display it repeating each alphabetical character as many times as its alphabetical index, followed by a newline.\n",
    "\n",
    "'a' becomes 'a', 'b' becomes 'bb', 'e' becomes 'eeeee', etc... \\\n",
    "Case remains unchanged.\n",
    "\n",
    "If the number of arguments is not 1, just display a newline.\n",
    "\n",
    "### Examples:"
   ]
  },
  {
   "cell_type": "code",
   "execution_count": null,
   "metadata": {
    "vscode": {
     "languageId": "shellscript"
    }
   },
   "outputs": [],
   "source": [
    "$>./repeat_alpha \"abc\"\n",
    "abbccc\n",
    "\n",
    "$>./repeat_alpha \"Alex.\" | cat -e\n",
    "Alllllllllllleeeeexxxxxxxxxxxxxxxxxxxxxxxx.$\n",
    "\n",
    "$>./repeat_alpha 'abacadaba 42!' | cat -e\n",
    "abbacccaddddabba 42!$\n",
    "\n",
    "$>./repeat_alpha | cat -e\n",
    "$\n",
    "\n",
    "$>./repeat_alpha \"\" | cat -e\n",
    "$"
   ]
  },
  {
   "cell_type": "code",
   "execution_count": null,
   "metadata": {
    "vscode": {
     "languageId": "c"
    }
   },
   "outputs": [],
   "source": [
    "#include <unistd.h>\n",
    "\n",
    "int main(int argc, char **argv)\n",
    "{\n",
    "\tchar *str = argv[1];\n",
    "\tint i = 0;\n",
    "\tint j = 0;\n",
    "\tif (argc == 2)\n",
    "\t{\n",
    "\t\twhile (str[i] != '\\0')\n",
    "\t\t{\n",
    "\t\t\tif (str[i] >= 65 && str[i] <= 90)\n",
    "\t\t\t{\n",
    "\t\t\t\tj = str[i] - 64;\n",
    "\t\t\t\twhile (j > 0)\n",
    "\t\t\t\t{\n",
    "\t\t\t\t\twrite(1, &str[i], 1);\n",
    "\t\t\t\t\tj--;\n",
    "\t\t\t\t}\n",
    "\t\t\t}\n",
    "\t\t\telse if (str[i] >= 97 && str[i] <= 122)\n",
    "\t\t\t{\n",
    "\t\t\t\tj = str[i] - 96;\n",
    "\t\t\t\twhile (j > 0)\n",
    "\t\t\t\t{\n",
    "\t\t\t\t\twrite(1, &str[i], 1);\n",
    "\t\t\t\t\tj--;\n",
    "\t\t\t\t}\n",
    "\t\t\t}\n",
    "\t\t\ti++;\n",
    "\t\t}\n",
    "\t}\n",
    "\twrite(1, \"\\n\", 1);\n",
    "\treturn (0);\n",
    "}"
   ]
  },
  {
   "cell_type": "markdown",
   "metadata": {},
   "source": [
    "## rev_print"
   ]
  },
  {
   "cell_type": "markdown",
   "metadata": {},
   "source": [
    "Assignment name  : rev_print\n",
    "\n",
    "Expected files   : rev_print.c\n",
    "\n",
    "Allowed functions: write\n",
    "\n",
    "--------------------------------------------------------------------------------\n",
    "\n",
    "Write a function that takes a string, and displays the string in reverse followed by a newline. \\\n",
    "The original string must not be modified. \\\n",
    "You must return the string passed as a parameter.\n",
    "\n",
    "Your function must be declared as follows:\n",
    "`char *rev_print(char *str);`\n",
    "\n",
    "### Examples:"
   ]
  },
  {
   "cell_type": "code",
   "execution_count": null,
   "metadata": {
    "vscode": {
     "languageId": "c"
    }
   },
   "outputs": [],
   "source": [
    "int main(void)\n",
    "{\n",
    "  rev_print(\"Hello world\");\n",
    "  write (1, \"\\n\", 1);\n",
    "  rev_print(\"tnirp esreveR\");\n",
    "  write (1, \"\\n\", 1);\n",
    "  rev_print(\"\");\n",
    "  write (1, \"\\n\", 1);\n",
    "}"
   ]
  },
  {
   "cell_type": "markdown",
   "metadata": {},
   "source": [
    "Output:"
   ]
  },
  {
   "cell_type": "code",
   "execution_count": null,
   "metadata": {
    "vscode": {
     "languageId": "shellscript"
    }
   },
   "outputs": [],
   "source": [
    "$> ./a.out | cat -e\n",
    "dlrow olleH$\n",
    "$> ./a.out | cat -e\n",
    "Reverse print$\n",
    "$> ./a.out | cat -e\n",
    "$"
   ]
  },
  {
   "cell_type": "code",
   "execution_count": null,
   "metadata": {
    "vscode": {
     "languageId": "c"
    }
   },
   "outputs": [],
   "source": [
    "#include <unistd.h>\n",
    "\n",
    "char *rev_print(char *str)\n",
    "{\n",
    "\tint i = 0;\n",
    "\twhile (str[i])\n",
    "\t\ti++;\n",
    "\twhile (i >= 0)\n",
    "\t\twrite(1, &str[i--], 1);\n",
    "\treturn (str);\n",
    "}"
   ]
  },
  {
   "cell_type": "markdown",
   "metadata": {},
   "source": [
    "## rot_13"
   ]
  },
  {
   "cell_type": "markdown",
   "metadata": {},
   "source": [
    "Assignment name  : rot_13\n",
    "\n",
    "Expected files   : rot_13.c\n",
    "\n",
    "Allowed functions: write\n",
    "\n",
    "--------------------------------------------------------------------------------\n",
    "\n",
    "Write a program that takes a string and displays it, replacing each of its letters by the letter 13 spaces ahead in alphabetical order. \\\n",
    "'z' becomes 'm' and 'Z' becomes 'M'. Case remains unaffected. \\\n",
    "The output will be followed by a newline.\n",
    "\n",
    "If the number of arguments is not 1, the program displays a newline.\n",
    "\n",
    "### Example:"
   ]
  },
  {
   "cell_type": "code",
   "execution_count": null,
   "metadata": {
    "vscode": {
     "languageId": "shellscript"
    }
   },
   "outputs": [],
   "source": [
    "$>./rot_13 \"abc\"\n",
    "nop\n",
    "\n",
    "$>./rot_13 \"My horse is Amazing.\" | cat -e\n",
    "Zl ubefr vf Nznmvat.$\n",
    "\n",
    "$>./rot_13 \"AkjhZ zLKIJz , 23y \" | cat -e\n",
    "NxwuM mYXVWm , 23l $\n",
    "\n",
    "$>./rot_13 | cat -e\n",
    "$\n",
    "\n",
    "$>./rot_13 \"\" | cat -e\n",
    "$"
   ]
  },
  {
   "cell_type": "code",
   "execution_count": null,
   "metadata": {
    "vscode": {
     "languageId": "c"
    }
   },
   "outputs": [],
   "source": [
    "#include <unistd.h>\n",
    "\n",
    "int main(int argc, char **argv)\n",
    "{\n",
    "\tif (argc == 2)\n",
    "\t{\n",
    "\t\tchar *str = argv[1];\n",
    "\t\tint i = 0;\n",
    "\t\tchar aux;\n",
    "\t\twhile (str[i])\n",
    "\t\t{\n",
    "\t\t\tif ((str[i] >= 'A' && str[i] <= 'M') || (str[i] >= 'a' && str[i] <= 'm'))\n",
    "\t\t\t\taux = str[i] + 13;\n",
    "\t\t\telse if ((str[i] >= 'N' && str[i] <= 'Z') || (str[i] >= 'n' && str[i] <= 'z'))\n",
    "\t\t\t\taux = str[i] - 13;\n",
    "\t\t\telse\n",
    "\t\t\t\taux = str[i];\n",
    "\t\t\twrite(1, &aux, 1);\n",
    "\t\t\ti++;\n",
    "\t\t}\n",
    "\t}\n",
    "\twrite(1, \"\\n\", 1);\n",
    "\treturn (0);\n",
    "}"
   ]
  },
  {
   "cell_type": "markdown",
   "metadata": {},
   "source": [
    "## rotone"
   ]
  },
  {
   "cell_type": "markdown",
   "metadata": {},
   "source": [
    "Assignment name  : rotone\n",
    "\n",
    "Expected files   : rotone.c\n",
    "\n",
    "Allowed functions: write\n",
    "\n",
    "--------------------------------------------------------------------------------\n",
    "\n",
    "Write a program that takes a string and displays it, replacing each of its letters by the next one in alphabetical order.\n",
    "'z' becomes 'a' and 'Z' becomes 'A'. Case remains unaffected. \\\n",
    "The output will be followed by a \\n.\n",
    "\n",
    "If the number of arguments is not 1, the program displays \\n.\n",
    "\n",
    "### Example:"
   ]
  },
  {
   "cell_type": "code",
   "execution_count": null,
   "metadata": {
    "vscode": {
     "languageId": "shellscript"
    }
   },
   "outputs": [],
   "source": [
    "$>./rotone \"abc\"\n",
    "bcd\n",
    "\n",
    "$>./rotone \"Les stagiaires du staff ne sentent pas toujours tres bon.\" | cat -e\n",
    "Mft tubhjbjsft ev tubgg of tfoufou qbt upvkpvst usft cpo.$\n",
    "\n",
    "$>./rotone \"AkjhZ zLKIJz , 23y \" | cat -e\n",
    "BlkiA aMLJKa , 23z $\n",
    "\n",
    "$>./rotone | cat -e\n",
    "$\n",
    "\n",
    "$>./rotone \"\" | cat -e\n",
    "$"
   ]
  },
  {
   "cell_type": "code",
   "execution_count": null,
   "metadata": {
    "vscode": {
     "languageId": "c"
    }
   },
   "outputs": [],
   "source": [
    "int main(int argc, char **argv)\n",
    "{\n",
    "\tif (argc == 2)\n",
    "\t{\n",
    "\t\tchar *str = argv[1];\n",
    "\t\tint i = 0;\n",
    "\t\tchar aux;\n",
    "\t\twhile (str[i])\n",
    "\t\t{\n",
    "\t\t\tif ((str[i] >= 'A' && str[i] <= 'Y') || (str[i] >= 'a' && str[i] <= 'y'))\n",
    "\t\t\t\taux = str[i] + 1;\n",
    "\t\t\telse if (str[i] == 'Z' || str[i] == 'z')\n",
    "\t\t\t\taux = str[i] - 26;\n",
    "\t\t\telse\n",
    "\t\t\t\taux = str[i];\n",
    "\t\t\twrite(1, &aux, 1);\n",
    "\t\t\ti++;\n",
    "\t\t}\n",
    "\t}\n",
    "\twrite(1, \"\\n\", 1);\n",
    "\treturn (0);\n",
    "}"
   ]
  },
  {
   "cell_type": "markdown",
   "metadata": {},
   "source": [
    "## search_and_replace"
   ]
  },
  {
   "cell_type": "markdown",
   "metadata": {},
   "source": [
    "Assignment name  : search_and_replace\n",
    "\n",
    "Expected files   : search_and_replace.c\n",
    "\n",
    "Allowed functions: write, exit\n",
    "\n",
    "--------------------------------------------------------------------------------\n",
    "\n",
    "Write a program called search_and_replace that takes 3 arguments, the first arguments is a string in which to replace a letter (2nd argument) by another one (3rd argument).\n",
    "\n",
    "If the number of arguments is not 3, just display a newline. \\\n",
    "If the second argument is not contained in the first one (the string) then the program simply rewrites the string followed by a newline.\n",
    "\n",
    "### Examples:"
   ]
  },
  {
   "cell_type": "code",
   "execution_count": null,
   "metadata": {
    "vscode": {
     "languageId": "shellscript"
    }
   },
   "outputs": [],
   "source": [
    "$>./search_and_replace \"Papache est un sabre\" \"a\" \"o\"\n",
    "Popoche est un sobre\n",
    "\n",
    "$>./search_and_replace \"zaz\" \"art\" \"zul\" | cat -e\n",
    "$\n",
    "\n",
    "$>./search_and_replace \"zaz\" \"r\" \"u\" | cat -e\n",
    "zaz$\n",
    "\n",
    "$>./search_and_replace \"jacob\" \"a\" \"b\" \"c\" \"e\" | cat -e\n",
    "$\n",
    "\n",
    "$>./search_and_replace \"ZoZ eT Dovid oiME le METol.\" \"o\" \"a\" | cat -e\n",
    "ZaZ eT David aiME le METal.$\n",
    "\n",
    "$>./search_and_replace \"wNcOre Un ExEmPle Pas Facilw a Ecrirw \" \"w\" \"e\" | cat -e\n",
    "eNcOre Un ExEmPle Pas Facile a Ecrire $"
   ]
  },
  {
   "cell_type": "code",
   "execution_count": null,
   "metadata": {
    "vscode": {
     "languageId": "c"
    }
   },
   "outputs": [],
   "source": []
  }
 ],
 "metadata": {
  "language_info": {
   "name": "python"
  }
 },
 "nbformat": 4,
 "nbformat_minor": 2
}
